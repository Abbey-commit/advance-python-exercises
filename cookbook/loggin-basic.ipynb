{
 "cells": [
  {
   "cell_type": "markdown",
   "id": "7f344154-61b5-4e93-93b3-095b305c2188",
   "metadata": {},
   "source": [
    "#### The Practice \n",
    "\n",
    "Let's start with checking the behavior of the default logger, without modifying any of its configuration."
   ]
  },
  {
   "cell_type": "code",
   "execution_count": 2,
   "id": "6e3a7e5d-fe77-4e0b-9934-d9aeabd56c08",
   "metadata": {},
   "outputs": [
    {
     "name": "stderr",
     "output_type": "stream",
     "text": [
      "WARNING:root:Oh NO!\n",
      "ERROR:root:Watch out!\n",
      "CRITICAL:root:x.x\n"
     ]
    }
   ],
   "source": [
    "import logging\n",
    "\n",
    "logging.debug('Some additional information')\n",
    "logging.info('Working...')\n",
    "logging.warning('Oh NO!')\n",
    "logging.error('Watch out!')\n",
    "logging.critical('x.x')"
   ]
  },
  {
   "cell_type": "markdown",
   "id": "562a462e-684e-4c94-84df-e604fb1bd600",
   "metadata": {},
   "source": [
    "Here we are just important logging, and logging a line for each severity, to see the format and the threshold. When we run it see above: "
   ]
  },
  {
   "cell_type": "code",
   "execution_count": 3,
   "id": "5bf6a737-125b-4590-a373-ba1a63e5f490",
   "metadata": {},
   "outputs": [
    {
     "data": {
      "text/plain": [
       "'%(levelname):%(name)s:%(message)s'"
      ]
     },
     "execution_count": 3,
     "metadata": {},
     "output_type": "execute_result"
    }
   ],
   "source": [
    "'%(levelname):%(name)s:%(message)s'"
   ]
  },
  {
   "cell_type": "code",
   "execution_count": 4,
   "id": "0869c6c9-97dd-422b-ad39-c76e314a3243",
   "metadata": {},
   "outputs": [
    {
     "name": "stderr",
     "output_type": "stream",
     "text": [
      "WARNING:root:Oh NO!\n",
      "ERROR:root:Watch out!\n",
      "CRITICAL:root:x.x\n"
     ]
    }
   ],
   "source": [
    "logging.basicConfig(level=logging.INFO,\n",
    "                    format=\"%(asctime)s - [%(levelname)s] [%(threadName)s] (%module)s:%(lineo)d) %(message)s\", )\n",
    "\n",
    "logging.debug('Some additional information')\n",
    "logging.info('Working...')\n",
    "logging.warning('Oh NO!')\n",
    "logging.error('Watch out!')\n",
    "logging.critical('x.x')"
   ]
  },
  {
   "cell_type": "code",
   "execution_count": 1,
   "id": "63c6fd25-eda3-49d7-99d9-a7a522edcb43",
   "metadata": {},
   "outputs": [
    {
     "name": "stdout",
     "output_type": "stream",
     "text": [
      "1) Create Contact\n",
      "2) All Contacts\n",
      "3) Detail of a contact\n",
      "0 Exit\n"
     ]
    },
    {
     "name": "stdin",
     "output_type": "stream",
     "text": [
      "What do you want to do?  1\n",
      "name:  Michael\n",
      "number:  1234-5678\n"
     ]
    },
    {
     "name": "stdout",
     "output_type": "stream",
     "text": [
      "1) Create Contact\n",
      "2) All Contacts\n",
      "3) Detail of a contact\n",
      "0 Exit\n"
     ]
    },
    {
     "name": "stdin",
     "output_type": "stream",
     "text": [
      "What do you want to do?  2\n"
     ]
    },
    {
     "ename": "KeyError",
     "evalue": "'name'",
     "output_type": "error",
     "traceback": [
      "\u001b[1;31m---------------------------------------------------------------------------\u001b[0m",
      "\u001b[1;31mKeyError\u001b[0m                                  Traceback (most recent call last)",
      "Cell \u001b[1;32mIn[1], line 75\u001b[0m\n\u001b[0;32m     72\u001b[0m             actions[selected]()\n\u001b[0;32m     73\u001b[0m             \u001b[38;5;28mself\u001b[39m\u001b[38;5;241m.\u001b[39mmenu()\n\u001b[1;32m---> 75\u001b[0m Main(\u001b[38;5;124m\"\u001b[39m\u001b[38;5;124mpython projects/cookbook/contact.csv\u001b[39m\u001b[38;5;124m\"\u001b[39m)\u001b[38;5;241m.\u001b[39mmenu()\n",
      "Cell \u001b[1;32mIn[1], line 73\u001b[0m, in \u001b[0;36mMain.menu\u001b[1;34m(self)\u001b[0m\n\u001b[0;32m     71\u001b[0m \u001b[38;5;28;01mif\u001b[39;00m selected \u001b[38;5;129;01min\u001b[39;00m actions:\n\u001b[0;32m     72\u001b[0m     actions[selected]()\n\u001b[1;32m---> 73\u001b[0m     \u001b[38;5;28mself\u001b[39m\u001b[38;5;241m.\u001b[39mmenu()\n",
      "Cell \u001b[1;32mIn[1], line 72\u001b[0m, in \u001b[0;36mMain.menu\u001b[1;34m(self)\u001b[0m\n\u001b[0;32m     70\u001b[0m selected \u001b[38;5;241m=\u001b[39m \u001b[38;5;28minput\u001b[39m(\u001b[38;5;124m\"\u001b[39m\u001b[38;5;124mWhat do you want to do? \u001b[39m\u001b[38;5;124m\"\u001b[39m)\n\u001b[0;32m     71\u001b[0m \u001b[38;5;28;01mif\u001b[39;00m selected \u001b[38;5;129;01min\u001b[39;00m actions:\n\u001b[1;32m---> 72\u001b[0m     actions[selected]()\n\u001b[0;32m     73\u001b[0m     \u001b[38;5;28mself\u001b[39m\u001b[38;5;241m.\u001b[39mmenu()\n",
      "Cell \u001b[1;32mIn[1], line 49\u001b[0m, in \u001b[0;36mMain.names\u001b[1;34m(self)\u001b[0m\n\u001b[0;32m     48\u001b[0m \u001b[38;5;28;01mdef\u001b[39;00m \u001b[38;5;21mnames\u001b[39m(\u001b[38;5;28mself\u001b[39m):\n\u001b[1;32m---> 49\u001b[0m     names \u001b[38;5;241m=\u001b[39m \u001b[38;5;28mself\u001b[39m\u001b[38;5;241m.\u001b[39mrepo\u001b[38;5;241m.\u001b[39mnames()\n\u001b[0;32m     50\u001b[0m     \u001b[38;5;28;01mif\u001b[39;00m \u001b[38;5;28mlen\u001b[39m(names) \u001b[38;5;241m>\u001b[39m \u001b[38;5;241m0\u001b[39m:\n\u001b[0;32m     51\u001b[0m         \u001b[38;5;28;01mfor\u001b[39;00m n \u001b[38;5;129;01min\u001b[39;00m names:\n",
      "Cell \u001b[1;32mIn[1], line 26\u001b[0m, in \u001b[0;36mRepository.names\u001b[1;34m(self)\u001b[0m\n\u001b[0;32m     24\u001b[0m \u001b[38;5;28;01mdef\u001b[39;00m \u001b[38;5;21mnames\u001b[39m(\u001b[38;5;28mself\u001b[39m):\n\u001b[0;32m     25\u001b[0m     \u001b[38;5;28;01mwith\u001b[39;00m \u001b[38;5;28mopen\u001b[39m(\u001b[38;5;28mself\u001b[39m\u001b[38;5;241m.\u001b[39mfull_file_path, \u001b[38;5;124m'\u001b[39m\u001b[38;5;124mr+\u001b[39m\u001b[38;5;124m'\u001b[39m) \u001b[38;5;28;01mas\u001b[39;00m file:\n\u001b[1;32m---> 26\u001b[0m         names \u001b[38;5;241m=\u001b[39m \u001b[38;5;28mlist\u001b[39m(\u001b[38;5;28mmap\u001b[39m(\u001b[38;5;28;01mlambda\u001b[39;00m r: r[\u001b[38;5;124m'\u001b[39m\u001b[38;5;124mname\u001b[39m\u001b[38;5;124m'\u001b[39m], csv\u001b[38;5;241m.\u001b[39mDictReader(file)))\n\u001b[0;32m     27\u001b[0m         \u001b[38;5;28;01mreturn\u001b[39;00m names\n",
      "Cell \u001b[1;32mIn[1], line 26\u001b[0m, in \u001b[0;36mRepository.names.<locals>.<lambda>\u001b[1;34m(r)\u001b[0m\n\u001b[0;32m     24\u001b[0m \u001b[38;5;28;01mdef\u001b[39;00m \u001b[38;5;21mnames\u001b[39m(\u001b[38;5;28mself\u001b[39m):\n\u001b[0;32m     25\u001b[0m     \u001b[38;5;28;01mwith\u001b[39;00m \u001b[38;5;28mopen\u001b[39m(\u001b[38;5;28mself\u001b[39m\u001b[38;5;241m.\u001b[39mfull_file_path, \u001b[38;5;124m'\u001b[39m\u001b[38;5;124mr+\u001b[39m\u001b[38;5;124m'\u001b[39m) \u001b[38;5;28;01mas\u001b[39;00m file:\n\u001b[1;32m---> 26\u001b[0m         names \u001b[38;5;241m=\u001b[39m \u001b[38;5;28mlist\u001b[39m(\u001b[38;5;28mmap\u001b[39m(\u001b[38;5;28;01mlambda\u001b[39;00m r: r[\u001b[38;5;124m'\u001b[39m\u001b[38;5;124mname\u001b[39m\u001b[38;5;124m'\u001b[39m], csv\u001b[38;5;241m.\u001b[39mDictReader(file)))\n\u001b[0;32m     27\u001b[0m         \u001b[38;5;28;01mreturn\u001b[39;00m names\n",
      "\u001b[1;31mKeyError\u001b[0m: 'name'"
     ]
    }
   ],
   "source": [
    "import csv\n",
    "import os.path\n",
    "\n",
    "\n",
    "\n",
    "class Repository:\n",
    "    def __init__(self, full_file_path):\n",
    "        self.full_file_path = full_file_path\n",
    "        # Ensure directory exists\n",
    "        os.makedirs(os.path.dirname(full_file_path), exist_ok=True)\n",
    "\n",
    "    def add(self, contact):\n",
    "        headers = [h for h in contact]\n",
    "        headers.sort()\n",
    "        write_headers = not os.path.isfile(\n",
    "            self.full_file_path\n",
    "        ) # let's assume no one will go and erase the headers by\n",
    "        with open(self.full_file_path, 'a+') as file:\n",
    "            writer = csv.DictWriter(file, fieldnames=headers)\n",
    "            if write_headers:\n",
    "                writer.write_headers()\n",
    "            writer.writerow(contact)\n",
    "\n",
    "    def names(self):\n",
    "        with open(self.full_file_path, 'r+') as file:\n",
    "            names = list(map(lambda r: r['name'], csv.DictReader(file)))\n",
    "            return names\n",
    "\n",
    "    def full_contact(self, name):\n",
    "        with open(self.full_file_path, 'r+') as file:\n",
    "            for contact in list(csv.DictReader(file)):\n",
    "                if contact['name'] == name:\n",
    "                    return contact\n",
    "            return \n",
    "\n",
    "\n",
    "class Main:\n",
    "\n",
    "    def __init__(self, contacts_file):\n",
    "        self.repo = Repository(contacts_file)\n",
    "\n",
    "    def create(self):\n",
    "        name = input(\"name: \")\n",
    "        number = input(\"number: \")\n",
    "        contact = {\"name\": name, \"number\": number}\n",
    "        self.repo.add(contact)\n",
    "\n",
    "    def names(self):\n",
    "        names = self.repo.names()\n",
    "        if len(names) > 0:\n",
    "            for n in names:\n",
    "                print(\"- {}\".format(n))\n",
    "        else:\n",
    "            print(\"no contacts were found\")\n",
    "\n",
    "    def full_contact(self):\n",
    "        name = input(\"name: \")\n",
    "        contact = self.repo.full_contact(name)\n",
    "        if contact is not None:\n",
    "            print(\"name: {}\".format(contact[\"name\"]))\n",
    "            print(\"number: {}\".format(contact[\"number\"]))\n",
    "        else:\n",
    "            print(\"contact not found.\")\n",
    "\n",
    "    def menu(self):\n",
    "        actions = {\"1\": self.create, \"2\": self.names, \"3\": self.full_contact}\n",
    "        options = [\"1) Create Contact\", \"2) All Contacts\", \"3) Detail of a contact\", \"0 Exit\"]\n",
    "        for o in options:\n",
    "            print(o)\n",
    "        selected = input(\"What do you want to do? \")\n",
    "        if selected in actions:\n",
    "            actions[selected]()\n",
    "            self.menu()\n",
    "\n",
    "Main(\"python projects/cookbook/contact.csv\").menu()"
   ]
  },
  {
   "cell_type": "code",
   "execution_count": 10,
   "id": "f09d92e5-ee2e-47b8-aaf3-71953e468156",
   "metadata": {},
   "outputs": [
    {
     "name": "stderr",
     "output_type": "stream",
     "text": [
      "2025-07-07 10:34:38,880 - [INFO] [MainThread] (3731533886:14) Initializing contacts repository with file at: python projects/cookbook/contact2.csv\n"
     ]
    },
    {
     "name": "stdout",
     "output_type": "stream",
     "text": [
      "1) Create Contact\n",
      "2) All Contacts\n",
      "3) Detail of a contact\n",
      "0) Exit\n"
     ]
    },
    {
     "name": "stdin",
     "output_type": "stream",
     "text": [
      "What do you want to do?  1\n",
      "name:  michael\n",
      "number:  1234-567\n"
     ]
    },
    {
     "name": "stderr",
     "output_type": "stream",
     "text": [
      "2025-07-07 10:34:51,341 - [INFO] [MainThread] (3731533886:20) Creating contacts: {'name': 'michael', 'number': '1234-567'}\n"
     ]
    },
    {
     "name": "stdout",
     "output_type": "stream",
     "text": [
      "1) Create Contact\n",
      "2) All Contacts\n",
      "3) Detail of a contact\n",
      "0) Exit\n"
     ]
    },
    {
     "name": "stdin",
     "output_type": "stream",
     "text": [
      "What do you want to do?  2\n"
     ]
    },
    {
     "name": "stderr",
     "output_type": "stream",
     "text": [
      "2025-07-07 10:34:53,518 - [INFO] [MainThread] (3731533886:35) Retreiving all contact names\n"
     ]
    },
    {
     "ename": "KeyError",
     "evalue": "'name'",
     "output_type": "error",
     "traceback": [
      "\u001b[1;31m---------------------------------------------------------------------------\u001b[0m",
      "\u001b[1;31mKeyError\u001b[0m                                  Traceback (most recent call last)",
      "Cell \u001b[1;32mIn[10], line 94\u001b[0m\n\u001b[0;32m     91\u001b[0m             actions[selected]()\n\u001b[0;32m     92\u001b[0m             \u001b[38;5;28mself\u001b[39m\u001b[38;5;241m.\u001b[39mmenu()\n\u001b[1;32m---> 94\u001b[0m Main(\u001b[38;5;124m\"\u001b[39m\u001b[38;5;124mpython projects/cookbook/contact2.csv\u001b[39m\u001b[38;5;124m\"\u001b[39m)\u001b[38;5;241m.\u001b[39mmenu()\n",
      "Cell \u001b[1;32mIn[10], line 92\u001b[0m, in \u001b[0;36mMain.menu\u001b[1;34m(self)\u001b[0m\n\u001b[0;32m     90\u001b[0m \u001b[38;5;28;01mif\u001b[39;00m selected \u001b[38;5;129;01min\u001b[39;00m actions:\n\u001b[0;32m     91\u001b[0m     actions[selected]()\n\u001b[1;32m---> 92\u001b[0m     \u001b[38;5;28mself\u001b[39m\u001b[38;5;241m.\u001b[39mmenu()\n",
      "Cell \u001b[1;32mIn[10], line 91\u001b[0m, in \u001b[0;36mMain.menu\u001b[1;34m(self)\u001b[0m\n\u001b[0;32m     89\u001b[0m selected \u001b[38;5;241m=\u001b[39m \u001b[38;5;28minput\u001b[39m(\u001b[38;5;124m\"\u001b[39m\u001b[38;5;124mWhat do you want to do? \u001b[39m\u001b[38;5;124m\"\u001b[39m)\n\u001b[0;32m     90\u001b[0m \u001b[38;5;28;01mif\u001b[39;00m selected \u001b[38;5;129;01min\u001b[39;00m actions:\n\u001b[1;32m---> 91\u001b[0m     actions[selected]()\n\u001b[0;32m     92\u001b[0m     \u001b[38;5;28mself\u001b[39m\u001b[38;5;241m.\u001b[39mmenu()\n",
      "Cell \u001b[1;32mIn[10], line 67\u001b[0m, in \u001b[0;36mMain.names\u001b[1;34m(self)\u001b[0m\n\u001b[0;32m     66\u001b[0m \u001b[38;5;28;01mdef\u001b[39;00m \u001b[38;5;21mnames\u001b[39m(\u001b[38;5;28mself\u001b[39m):\n\u001b[1;32m---> 67\u001b[0m     name \u001b[38;5;241m=\u001b[39m \u001b[38;5;28mself\u001b[39m\u001b[38;5;241m.\u001b[39mrepo\u001b[38;5;241m.\u001b[39mnames()\n\u001b[0;32m     68\u001b[0m     \u001b[38;5;28;01mif\u001b[39;00m \u001b[38;5;28mlen\u001b[39m(names) \u001b[38;5;241m>\u001b[39m \u001b[38;5;241m0\u001b[39m:\n\u001b[0;32m     69\u001b[0m         \u001b[38;5;28;01mfor\u001b[39;00m n \u001b[38;5;129;01min\u001b[39;00m names:\n",
      "Cell \u001b[1;32mIn[10], line 37\u001b[0m, in \u001b[0;36mRepository.names\u001b[1;34m(self)\u001b[0m\n\u001b[0;32m     35\u001b[0m logging\u001b[38;5;241m.\u001b[39minfo(\u001b[38;5;124m\"\u001b[39m\u001b[38;5;124mRetreiving all contact names\u001b[39m\u001b[38;5;124m\"\u001b[39m)\n\u001b[0;32m     36\u001b[0m \u001b[38;5;28;01mwith\u001b[39;00m \u001b[38;5;28mopen\u001b[39m(\u001b[38;5;28mself\u001b[39m\u001b[38;5;241m.\u001b[39mfull_file_path, \u001b[38;5;124m'\u001b[39m\u001b[38;5;124mr+\u001b[39m\u001b[38;5;124m'\u001b[39m) \u001b[38;5;28;01mas\u001b[39;00m file:\n\u001b[1;32m---> 37\u001b[0m     names \u001b[38;5;241m=\u001b[39m \u001b[38;5;28mlist\u001b[39m(\u001b[38;5;28mmap\u001b[39m(\u001b[38;5;28;01mlambda\u001b[39;00m r: r[\u001b[38;5;124m'\u001b[39m\u001b[38;5;124mname\u001b[39m\u001b[38;5;124m'\u001b[39m], csv\u001b[38;5;241m.\u001b[39mDictReader(file)))\n\u001b[0;32m     38\u001b[0m     logging\u001b[38;5;241m.\u001b[39mdebug(\u001b[38;5;124m\"\u001b[39m\u001b[38;5;124mFound \u001b[39m\u001b[38;5;132;01m{}\u001b[39;00m\u001b[38;5;124m contacts\u001b[39m\u001b[38;5;124m\"\u001b[39m\u001b[38;5;241m.\u001b[39mformat(\u001b[38;5;28mlen\u001b[39m(name)))\n\u001b[0;32m     39\u001b[0m     \u001b[38;5;28;01mreturn\u001b[39;00m names\n",
      "Cell \u001b[1;32mIn[10], line 37\u001b[0m, in \u001b[0;36mRepository.names.<locals>.<lambda>\u001b[1;34m(r)\u001b[0m\n\u001b[0;32m     35\u001b[0m logging\u001b[38;5;241m.\u001b[39minfo(\u001b[38;5;124m\"\u001b[39m\u001b[38;5;124mRetreiving all contact names\u001b[39m\u001b[38;5;124m\"\u001b[39m)\n\u001b[0;32m     36\u001b[0m \u001b[38;5;28;01mwith\u001b[39;00m \u001b[38;5;28mopen\u001b[39m(\u001b[38;5;28mself\u001b[39m\u001b[38;5;241m.\u001b[39mfull_file_path, \u001b[38;5;124m'\u001b[39m\u001b[38;5;124mr+\u001b[39m\u001b[38;5;124m'\u001b[39m) \u001b[38;5;28;01mas\u001b[39;00m file:\n\u001b[1;32m---> 37\u001b[0m     names \u001b[38;5;241m=\u001b[39m \u001b[38;5;28mlist\u001b[39m(\u001b[38;5;28mmap\u001b[39m(\u001b[38;5;28;01mlambda\u001b[39;00m r: r[\u001b[38;5;124m'\u001b[39m\u001b[38;5;124mname\u001b[39m\u001b[38;5;124m'\u001b[39m], csv\u001b[38;5;241m.\u001b[39mDictReader(file)))\n\u001b[0;32m     38\u001b[0m     logging\u001b[38;5;241m.\u001b[39mdebug(\u001b[38;5;124m\"\u001b[39m\u001b[38;5;124mFound \u001b[39m\u001b[38;5;132;01m{}\u001b[39;00m\u001b[38;5;124m contacts\u001b[39m\u001b[38;5;124m\"\u001b[39m\u001b[38;5;241m.\u001b[39mformat(\u001b[38;5;28mlen\u001b[39m(name)))\n\u001b[0;32m     39\u001b[0m     \u001b[38;5;28;01mreturn\u001b[39;00m names\n",
      "\u001b[1;31mKeyError\u001b[0m: 'name'"
     ]
    }
   ],
   "source": [
    "# Add some logging to know what is happening\n",
    "\n",
    "import csv\n",
    "import os.path\n",
    "import logging\n",
    "\n",
    "logging.basicConfig(level=logging.INFO,\n",
    "                    format=\"%(asctime)s - [%(levelname)s] [%(threadName)s] (%(module)s:%(lineno)d) %(message)s\", )\n",
    "\n",
    "\n",
    "\n",
    "class Repository:\n",
    "    def __init__(self, full_file_path):\n",
    "        logging.info(\"Initializing contacts repository with file at: {}\".format(\n",
    "            full_file_path\n",
    "        ))\n",
    "        self.full_file_path = full_file_path\n",
    "\n",
    "    def add(self, contact):\n",
    "        logging.info(\"Creating contacts: {}\".format(contact))\n",
    "        headers = [h for h in contact]\n",
    "        headers.sort()\n",
    "        write_headers = not os.path.isfile(\n",
    "            self.full_file_path\n",
    "        ) # Let's assume no one will go and erase the headers by hand\n",
    "\n",
    "        with open(self.full_file_path, 'a+') as file:\n",
    "            writer = csv.DictWriter(file, fieldnames=headers)\n",
    "            if write_headers:\n",
    "                logging.debug(\"this is the first contact in the given file. Write headers.\")\n",
    "                writer.writeheader()\n",
    "            writer.writerow(contact)\n",
    "\n",
    "    def names(self):\n",
    "        logging.info(\"Retreiving all contact names\")\n",
    "        with open(self.full_file_path, 'r+') as file:\n",
    "            names = list(map(lambda r: r['name'], csv.DictReader(file)))\n",
    "            logging.debug(\"Found {} contacts\".format(len(name)))\n",
    "            return names\n",
    "\n",
    "    def full_contact(self, name):\n",
    "        logging.info(\n",
    "            \"Retreiving all contact names\"\n",
    "        )\n",
    "        with open(self.full_file_path, \"r+\") as file:\n",
    "            for contact in list(csv.DictReader(file)):\n",
    "                if contact['name'] == name:\n",
    "                    logging.debug(\"Contact was found\")\n",
    "                    return contact\n",
    "\n",
    "            logging.warning(\"Contact was not found for name: {}\".format(name))\n",
    "            return\n",
    "\n",
    "\n",
    "class Main:\n",
    "\n",
    "    def __init__(self, contacts_file):\n",
    "        self.repo = Repository(contacts_file)\n",
    "\n",
    "    def create(self):\n",
    "        name = input(\"name: \")\n",
    "        number = input(\"number: \")\n",
    "        contact = {\"name\": name, \"number\": number}\n",
    "        self.repo.add(contact)\n",
    "\n",
    "    def names(self):\n",
    "        name = self.repo.names()\n",
    "        if len(names) > 0:\n",
    "            for n in names:\n",
    "                print(\"- {}\".format(n))\n",
    "        else:\n",
    "            print(\"No contacts were found.\")\n",
    "\n",
    "    def full_contact(self):\n",
    "        name = input(\"name: \")\n",
    "        contact = self.repo.full_contact(name)\n",
    "        if contact is not None:\n",
    "            print(\"Name: {}\".format(contact['name']))\n",
    "            print(\"Number: {}\".format(contact[\"number\"]))\n",
    "        else:\n",
    "            print(\"Contact not found.\")\n",
    "\n",
    "    def menu(self):\n",
    "        actions = {'1': self.create, '2': self.names, '3': self.full_contact}\n",
    "        options = [\"1) Create Contact\", \"2) All Contacts\", \"3) Detail of a contact\", \"0) Exit\"]\n",
    "        for o in options:\n",
    "            print(o)\n",
    "\n",
    "        selected = input(\"What do you want to do? \")\n",
    "        if selected in actions:\n",
    "            actions[selected]()\n",
    "            self.menu()\n",
    "\n",
    "Main(\"python projects/cookbook/contact2.csv\").menu()"
   ]
  },
  {
   "cell_type": "code",
   "execution_count": 1,
   "id": "279e3aeb-a32e-4de6-886d-d83e94759eae",
   "metadata": {},
   "outputs": [
    {
     "name": "stdout",
     "output_type": "stream",
     "text": [
      "Sebastian\n",
      "23\n",
      "address is not present\n"
     ]
    }
   ],
   "source": [
    "def get(dictionary, key, default_value=None):\n",
    "    if key in dictionary:\n",
    "        return dictionary[key]\n",
    "    else:\n",
    "        return default_value\n",
    "\n",
    "my_dict = {'name': 'Sebastian', 'age': 23}\n",
    "\n",
    "print(str(get(my_dict, 'name', 'name is not present')))\n",
    "print(str(get(my_dict, 'age', 'age is not present')))\n",
    "print(str(get(my_dict, 'address', 'address is not present')))"
   ]
  },
  {
   "cell_type": "code",
   "execution_count": 2,
   "id": "b22eec14-6894-417a-9784-44e96d10025f",
   "metadata": {},
   "outputs": [],
   "source": [
    "# def keys(dictionary):\n",
    "#     return [k for k in dictionary]\n",
    "\n",
    "\n",
    "# print(str(keys(my_dict)))"
   ]
  },
  {
   "cell_type": "code",
   "execution_count": 7,
   "id": "661bdf4d-769c-4b98-8324-c3f040f782a6",
   "metadata": {},
   "outputs": [
    {
     "name": "stdout",
     "output_type": "stream",
     "text": [
      "['name', 'age']\n"
     ]
    }
   ],
   "source": [
    "def keys(dictionary):\n",
    "    result = [k for k in dictionary]\n",
    "    # result.append(\"break the program please!\")  # Comment and uncomment to get different cell output\n",
    "    if len(result) != len(dictionary):\n",
    "        raise Exception(\"Expect {} keys, got {}\".format(len(dictionary), len(result)))\n",
    "    return result\n",
    "\n",
    "print(str(keys(my_dict)))"
   ]
  },
  {
   "cell_type": "code",
   "execution_count": 19,
   "id": "0c8db831-7371-4ab2-9c21-979909d2f648",
   "metadata": {},
   "outputs": [
    {
     "name": "stdout",
     "output_type": "stream",
     "text": [
      " name, Sebastian\n",
      " last_name, Vinci\n",
      " age, 21\n"
     ]
    }
   ],
   "source": [
    "def print_dict(dictionary):\n",
    "    ks = list(dictionary.keys())\n",
    "    vs = list(dictionary.values())\n",
    "    for i in range(0, len(ks)):\n",
    "        k = ks[i]\n",
    "        v = vs[i]\n",
    "        print(\" {}, {}\".format(str(k), str(v)))\n",
    "\n",
    "example = {\n",
    "    'name': 'Sebastian',\n",
    "    'last_name': 'Vinci',\n",
    "    'age': 21\n",
    "}\n",
    "\n",
    "print_dict(example)"
   ]
  },
  {
   "cell_type": "code",
   "execution_count": 21,
   "id": "438eb571-bdc7-4444-8f09-d36b6ca18aa7",
   "metadata": {},
   "outputs": [
    {
     "name": "stdout",
     "output_type": "stream",
     "text": [
      " name: Sebastian\n",
      " last_name: Vinci\n",
      " age: 21\n"
     ]
    }
   ],
   "source": [
    "def print_dict(dictionary):\n",
    "    ks = list(dictionary.keys())\n",
    "    vs = list(dictionary.values())\n",
    "    for i in range(0, len(ks)):\n",
    "        k = ks[i]\n",
    "        v = vs[i]\n",
    "        print(\" {}: {}\".format(str(k), str(v)))\n",
    "\n",
    "print_dict(example)"
   ]
  },
  {
   "cell_type": "code",
   "execution_count": 23,
   "id": "c0c62cb7-a51b-4eac-9155-906ee184a31b",
   "metadata": {},
   "outputs": [
    {
     "name": "stdout",
     "output_type": "stream",
     "text": [
      "age: 21\n",
      "last_name: Vinci\n",
      "name: Sebastian\n"
     ]
    }
   ],
   "source": [
    "def print_dict(dictionary):\n",
    "    ks = sorted(dictionary.keys())\n",
    "    for k in ks:\n",
    "        print(\"{}: {}\".format(str(k), str(dictionary.get(k))))\n",
    "\n",
    "print_dict(example)"
   ]
  },
  {
   "cell_type": "code",
   "execution_count": 24,
   "id": "ad9fc50d-e1d8-4f97-9a59-c84f0fcb930d",
   "metadata": {},
   "outputs": [
    {
     "name": "stdout",
     "output_type": "stream",
     "text": [
      "name: Sebastian\n",
      "last_name: Vinci\n",
      "age: 21\n"
     ]
    }
   ],
   "source": [
    "def print_dict(dictionary):\n",
    "    for k, v in dictionary.items():\n",
    "        print(\"{}: {}\".format(str(k), str(v)))\n",
    "\n",
    "print_dict(example)"
   ]
  },
  {
   "cell_type": "markdown",
   "id": "0c5176d8-5e0a-4e3a-8e95-ea92828440af",
   "metadata": {},
   "source": [
    "As you can see, this output the same as the previous key: value pairs. Something to notice is that we can not assign another value to tuple. E.g., tuple[0] = 1.  Except to access. E.g., tuple[1], tuple[4] etc."
   ]
  },
  {
   "cell_type": "markdown",
   "id": "98e3b1e3-f91f-4546-a686-bd67f4e9111f",
   "metadata": {},
   "source": [
    "#### 6.4.5 **update()**"
   ]
  },
  {
   "cell_type": "code",
   "execution_count": 31,
   "id": "bc7bbb59-ce11-405d-9abd-3f8a70cab5e7",
   "metadata": {},
   "outputs": [
    {
     "name": "stdout",
     "output_type": "stream",
     "text": [
      "description: WCG E-Book, price: 2.75, sold: 1500, stock: 5700\n",
      "description: WCG E-Book, price: 2.75, sold: 1600, stock: 5600\n"
     ]
    }
   ],
   "source": [
    "product = {\n",
    "    \"description\": \"WCG E-Book\",\n",
    "    \"price\": 2.75,\n",
    "    \"sold\": 1500,\n",
    "    \"stock\": 5700\n",
    "}\n",
    "\n",
    "\n",
    "def sell(p):\n",
    "    update = {\"sold\": p.get(\"sold\", 0) + 1, \"stock\": p.get(\"stock\") - 1}\n",
    "    p.update(update)\n",
    "\n",
    "def print_product(p):\n",
    "    print(\", \".join([\"{}: {}\".format(str(k), str(product[k])) for k in sorted(p.keys())]))\n",
    "\n",
    "\n",
    "print_product(product)\n",
    "for i in range(0, 100):\n",
    "    sell(product)\n",
    "print_product(product)\n"
   ]
  },
  {
   "cell_type": "code",
   "execution_count": null,
   "id": "5d1b1b35-6e23-487a-bf0e-f54b21fd845e",
   "metadata": {},
   "outputs": [],
   "source": []
  }
 ],
 "metadata": {
  "kernelspec": {
   "display_name": "Python 3 (ipykernel)",
   "language": "python",
   "name": "python3"
  },
  "language_info": {
   "codemirror_mode": {
    "name": "ipython",
    "version": 3
   },
   "file_extension": ".py",
   "mimetype": "text/x-python",
   "name": "python",
   "nbconvert_exporter": "python",
   "pygments_lexer": "ipython3",
   "version": "3.12.7"
  }
 },
 "nbformat": 4,
 "nbformat_minor": 5
}
