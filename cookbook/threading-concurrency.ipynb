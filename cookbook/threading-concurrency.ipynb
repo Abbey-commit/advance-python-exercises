{
 "cells": [
  {
   "cell_type": "markdown",
   "id": "0d275a97-37f4-4f2a-b4d5-faf96d8f4d9f",
   "metadata": {},
   "source": [
    " ### Threading / Concurrency Example\n",
    " Threads are processes which run in parallel to other threads. In a utopian scenario, if you split a big process in 2 threads, these\n",
    " threads will run in parallel so it would take half the time.\n",
    " This is not true in most cases. Using CPython, there is a mutex that prevents multiple native threads from executing Python byte\n",
    " codes at once. It’s called GIL (global interpreter lock). This lock is necessary mainly because CPython’s memory management\n",
    " is not thread-safe, but notice that I/O, image processing, and other potentially blocking operations, happen outside the GIL, so it\n",
    " will only become a bottle neck in processes that spend a lot of time inside the GIL.\n",
    " In most applications nowadays, concurrency is something we all must be able to handle. Mostly in web applications, where one\n",
    " request usually starts a thread, we need to have concurrency and threading in mind so we can write our programs accordingly.\n",
    " Threading is also a good solution to optimize response times. Given a scenario in which we have to process 4 million objects, a\n",
    " good thing to do would be divide them in 4 groups of a million objects and process them in 4 separated threads.\n",
    " \n",
    " #### 3.1 Python _thread module\n",
    " The _thread moduleis very effective for low level threading, let’s see an example to understand the concept. But keep in mind\n",
    " that since Python 2.4, this module is not used anymore.\n",
    " The process of spawning a thread is pretty simple. We just need to call a method called start_new_thread, available in\n",
    " the _thread module, which receives a function, and arguments to pass to it. It returns immediately and a thread will run in\n",
    " parallel. Let’s see:"
   ]
  },
  {
   "cell_type": "code",
   "execution_count": 2,
   "id": "1b311444-44d3-4e67-80d4-008913920c56",
   "metadata": {},
   "outputs": [
    {
     "name": "stdout",
     "output_type": "stream",
     "text": [
      "Thread-1: Fri Jun 27 21:46:04 2025\n",
      "Thread-2: Fri Jun 27 21:46:06 2025\n",
      "Thread-1: Fri Jun 27 21:46:06 2025\n",
      "Thread-1: Fri Jun 27 21:46:08 2025\n",
      "Thread-2: Fri Jun 27 21:46:10 2025\n",
      "Thread-1: Fri Jun 27 21:46:10 2025\n",
      "Thread-1: Fri Jun 27 21:46:12 2025\n",
      "Thread-2: Fri Jun 27 21:46:14 2025\n",
      "Thread-2: Fri Jun 27 21:46:18 2025\n",
      "Thread-2: Fri Jun 27 21:46:22 2025\n"
     ]
    }
   ],
   "source": [
    "import _thread as thread\n",
    "import time\n",
    "\n",
    "executed_count = 0\n",
    "\n",
    "# Define a function for the thread\n",
    "def print_time(thread_name, delay):\n",
    "    global executed_count\n",
    "    count = 0\n",
    "    while count < 5:\n",
    "        time.sleep(delay)\n",
    "        count += 1\n",
    "        print(\"%s: %s\" % (thread_name, time.ctime(time.time())))\n",
    "    executed_count += 1\n",
    "\n",
    "\n",
    "# Create two threads as follows\n",
    "try:\n",
    "    threads = [\n",
    "        thread.start_new_thread(print_time, (\"Thread-1\", 2,)),\n",
    "        thread.start_new_thread(print_time, (\"Thread-2\", 4,))\n",
    "    ]\n",
    "except:\n",
    "    print(\"Error: unable to start thread\")\n",
    "\n",
    "while executed_count < 2:\n",
    "    pass"
   ]
  },
  {
   "cell_type": "markdown",
   "id": "bc23a213-71ce-4290-a182-5ebd33c5113a",
   "metadata": {},
   "source": [
    "So, let's see what is going on:\n",
    "\n",
    "Then we create two threads, each of them containing our print_time function, with a name and a delay assigned to them. And we have a while which makes sure the program won't exit until executed_count is equal or greater than 2.\n",
    "\n",
    "#### 3.2 Python threading module\n",
    "\n",
    "The newer threading module included Python 2.4 provides much more powerful, high-level support for thread than the _thread module.\n",
    "\n",
    "#### 3.2.1 Extending Thread\n",
    "\n",
    "The most used procedure for spawning a thread using this module, is defining a subclass of the Thread class. Once you've done it, you should override the __init__and run methods.\n",
    "\n",
    "Once you've got your class, you just instantiate an object of it and call the method called start. Let's see an example below."
   ]
  },
  {
   "cell_type": "code",
   "execution_count": 7,
   "id": "388f0125-715e-4628-a593-98bfb225a83d",
   "metadata": {},
   "outputs": [
    {
     "name": "stdout",
     "output_type": "stream",
     "text": [
      "Thread-1 start\n",
      "Thread-2 start\n",
      "Thread-3 start\n",
      "Thread-1 end\n",
      "Thread-2 end\n",
      "Thread-3 end\n"
     ]
    }
   ],
   "source": [
    "import threading\n",
    "\n",
    "class MyThread(threading.Thread):\n",
    "    def __init__(self, name, sleep_time):\n",
    "        threading.Thread.__init__(self)\n",
    "        self.name = name\n",
    "        self.sleep_time = sleep_time\n",
    "\n",
    "    def run(self):\n",
    "        print(\"{} start\".format(self.name))\n",
    "        time.sleep(self.sleep_time)\n",
    "        print(\"{} end\".format(self.name))\n",
    "\n",
    "\n",
    "threads = [MyThread(\"Thread-{}\".format(i), i) for i in range(1, 4)]\n",
    "for t in threads:\n",
    "    t.start()\n",
    "    "
   ]
  },
  {
   "cell_type": "markdown",
   "id": "19e64b85-479a-4784-8c5c-47ca41d97900",
   "metadata": {},
   "source": [
    "Of course, we don't need to name our threads like that. Each Thread instance has a name with a default value that can be changed as the thread is created. Naming threads is useful in server processes with multiple service threads handling different operations. "
   ]
  },
  {
   "cell_type": "code",
   "execution_count": 15,
   "id": "391ebcaf-dd5b-4bc8-8c3d-3fef709ef2a9",
   "metadata": {},
   "outputs": [],
   "source": [
    "# def __init__(self, sleep_time):\n",
    "#     threading.Thread.__init__(self)\n",
    "#     threading.Thread.__init__(self)\n",
    "#     self.sleep_time = sleep_time\n",
    "\n",
    "\n",
    "def __init__(self,sleep_time):\n",
    "    threading.Thread.__init__(self)\n",
    "    threading.Thread.__init__(self)\n",
    "    self.sleep_time=sleep_time"
   ]
  },
  {
   "cell_type": "code",
   "execution_count": 17,
   "id": "4ea92f80-1948-4a55-8cb0-3038cf21a25f",
   "metadata": {},
   "outputs": [
    {
     "name": "stdout",
     "output_type": "stream",
     "text": [
      "Thread-22 start\n",
      "Thread-24 start\n",
      "Thread-26 start\n"
     ]
    },
    {
     "name": "stderr",
     "output_type": "stream",
     "text": [
      "C:\\Users\\user\\AppData\\Local\\Temp\\ipykernel_8200\\2092067811.py:2: DeprecationWarning: getName() is deprecated, get the name attribute instead\n",
      "  thread_name = threading.current_thread().getName()\n"
     ]
    },
    {
     "name": "stdout",
     "output_type": "stream",
     "text": [
      "Thread-22 end\n",
      "Thread-24 end\n",
      "Thread-26 end\n"
     ]
    }
   ],
   "source": [
    "def my_logic(sleep_time):\n",
    "    thread_name = threading.current_thread().getName()\n",
    "    print(\"{} start\".format(thread_name))\n",
    "    time.sleep(sleep_time)\n",
    "    print(\"{} end\".format(thread_name))\n",
    "\n",
    "\n",
    "class MyThread(threading.Thread):\n",
    "    def __init__(self, sleep_time):\n",
    "        threading.Thread.__init__(self)\n",
    "        threading.Thread.__init__(self)\n",
    "        self.sleep_time = sleep_time\n",
    "\n",
    "    def run(self):\n",
    "        my_logic(self.sleep_time)\n",
    "\n",
    "\n",
    "threads = [MyThread(i) for i in range(1, 4)]\n",
    "for t in threads:\n",
    "    t.start()"
   ]
  },
  {
   "cell_type": "markdown",
   "id": "d68b0155-4aa3-4f0c-b69d-2bf7d8c3dd4e",
   "metadata": {},
   "source": [
    "By executing threading_current_thread(), we gain access to the current thread information. Among that information we can find its status(is_alive()), its, daemon flag (is_daemon()), and other useful methods.\n",
    "\n",
    "#### 3.2.3 Daemon Threads\n",
    "\n",
    "Now, let's tals about daemon threads. Until now, our programs waited for every thread to end before actually terminating, but sometimes we don't want that behavior. If we have a thread, pushing status or metrics to a series, we usually don't care if it has finished or not when we shut down our program, and maybe we don't want to explicitly terminate it before exiting.\n",
    "\n",
    "Daemon threads run without blocking the main thread from exiting. They are useful when we have services where there may not be an easy way to interrupt the thread or where letting the thread die in the middle of its work does not lose or corrupt data.\n",
    "\n",
    "To spawn a daemon thread, we just spawn a normal thread a call setDaemon() method with True as a parameter. By default thread are not daemon. Let's see how our program behaves when we make those threads daemon:"
   ]
  },
  {
   "cell_type": "code",
   "execution_count": 21,
   "id": "0878dfda-d7f8-4bc7-973f-17ad76d2dd36",
   "metadata": {},
   "outputs": [
    {
     "name": "stdout",
     "output_type": "stream",
     "text": [
      "Thread-46 start\n",
      "Thread-48 start\n",
      "Thread-50 start\n"
     ]
    },
    {
     "name": "stderr",
     "output_type": "stream",
     "text": [
      "C:\\Users\\user\\AppData\\Local\\Temp\\ipykernel_8200\\1277778088.py:2: DeprecationWarning: setDaemon() is deprecated, set the daemon attribute instead\n",
      "  threads[2].setDaemon(True)\n",
      "C:\\Users\\user\\AppData\\Local\\Temp\\ipykernel_8200\\2092067811.py:2: DeprecationWarning: getName() is deprecated, get the name attribute instead\n",
      "  thread_name = threading.current_thread().getName()\n"
     ]
    },
    {
     "name": "stdout",
     "output_type": "stream",
     "text": [
      "Thread-46 end\n",
      "Thread-48 end\n",
      "Thread-50 end\n"
     ]
    }
   ],
   "source": [
    "threads = [MyThread(i) for i in range(1, 4)]\n",
    "threads[2].setDaemon(True)\n",
    "for t in threads:\n",
    "    t.start()"
   ]
  },
  {
   "cell_type": "markdown",
   "id": "47ec1f4d-5a5e-4a16-b9af-bef801615f67",
   "metadata": {},
   "source": [
    "As you can see the main thread is not waiting for Thread-6 to finish before exiting. daemon threads are terminated when the main thread finished its execution.\n",
    "Let's write something that resembles a real-life problem solution. Make a script, that given an array of URL's, crawls them and saves the htmml in files"
   ]
  },
  {
   "cell_type": "code",
   "execution_count": 27,
   "id": "e87cdfe6-e560-4351-a19a-5079eb65cda3",
   "metadata": {},
   "outputs": [
    {
     "name": "stdin",
     "output_type": "stream",
     "text": [
      "host:  www.google.com\n",
      "output file absolute path:  /tmp/google-home.html\n",
      "add another? (y/N)  y\n",
      "host:  www.bbc.com\n",
      "output file absolute path:  /tmp/bbc-home.html\n",
      "add another? (y/N)  N\n"
     ]
    },
    {
     "name": "stderr",
     "output_type": "stream",
     "text": [
      "(Crawler-www.google.com) executing get request for parameters: {'host': 'www.google.com', 'port': 80, 'path': '/'}\n",
      "(Crawler-www.bbc.com) executing get request for parameters: {'host': 'www.bbc.com', 'port': 80, 'path': '/'}\n",
      "Exception in thread Crawler-www.google.com:\n",
      "Traceback (most recent call last):\n",
      "  File \"C:\\Users\\user\\anaconda3\\Lib\\threading.py\", line 1075, in _bootstrap_inner\n",
      "Exception in thread Crawler-www.bbc.com:\n",
      "Traceback (most recent call last):\n",
      "  File \"C:\\Users\\user\\anaconda3\\Lib\\threading.py\", line 1075, in _bootstrap_inner\n",
      "    self.run()\n",
      "  File \"C:\\Users\\user\\AppData\\Local\\Temp\\ipykernel_8200\\792128257.py\", line 36, in run\n",
      "    self.run()\n",
      "  File \"C:\\Users\\user\\AppData\\Local\\Temp\\ipykernel_8200\\792128257.py\", line 36, in run\n",
      "  File \"C:\\Users\\user\\AppData\\Local\\Temp\\ipykernel_8200\\792128257.py\", line 18, in crawl\n",
      "  File \"C:\\Users\\user\\AppData\\Local\\Temp\\ipykernel_8200\\792128257.py\", line 18, in crawl\n",
      "  File \"C:\\Users\\user\\anaconda3\\Lib\\http\\client.py\", line 1336, in request\n",
      "    self._send_request(method, url, body, headers, encode_chunked)\n",
      "  File \"C:\\Users\\user\\anaconda3\\Lib\\http\\client.py\", line 1382, in _send_request\n",
      "  File \"C:\\Users\\user\\anaconda3\\Lib\\http\\client.py\", line 1336, in request\n",
      "    self.endheaders(body, encode_chunked=encode_chunked)\n",
      "  File \"C:\\Users\\user\\anaconda3\\Lib\\http\\client.py\", line 1331, in endheaders\n",
      "    self._send_request(method, url, body, headers, encode_chunked)\n",
      "  File \"C:\\Users\\user\\anaconda3\\Lib\\http\\client.py\", line 1382, in _send_request\n",
      "    self.endheaders(body, encode_chunked=encode_chunked)\n",
      "  File \"C:\\Users\\user\\anaconda3\\Lib\\http\\client.py\", line 1331, in endheaders\n",
      "    self._send_output(message_body, encode_chunked=encode_chunked)\n",
      "  File \"C:\\Users\\user\\anaconda3\\Lib\\http\\client.py\", line 1091, in _send_output\n",
      "    self.send(msg)\n",
      "  File \"C:\\Users\\user\\anaconda3\\Lib\\http\\client.py\", line 1035, in send\n",
      "    self.connect()\n",
      "  File \"C:\\Users\\user\\anaconda3\\Lib\\http\\client.py\", line 1001, in connect\n",
      "    self.sock = self._create_connection(\n",
      "                ^^^^^^^^^^^^^^^^^^^^^^^^\n",
      "  File \"C:\\Users\\user\\anaconda3\\Lib\\socket.py\", line 841, in create_connection\n",
      "    for res in getaddrinfo(host, port, 0, SOCK_STREAM):\n",
      "               ^^^^^^^^^^^^^^^^^^^^^^^^^^^^^^^^^^^^^^^\n",
      "  File \"C:\\Users\\user\\anaconda3\\Lib\\socket.py\", line 976, in getaddrinfo\n",
      "    for res in _socket.getaddrinfo(host, port, family, type, proto, flags):\n",
      "               ^^^^^^^^^^^^^^^^^^^^^^^^^^^^^^^^^^^^^^^^^^^^^^^^^^^^^^^^^^^\n",
      "socket.gaierror: [Errno 11001] getaddrinfo failed\n",
      "    self._send_output(message_body, encode_chunked=encode_chunked)\n",
      "  File \"C:\\Users\\user\\anaconda3\\Lib\\http\\client.py\", line 1091, in _send_output\n",
      "    self.send(msg)\n",
      "  File \"C:\\Users\\user\\anaconda3\\Lib\\http\\client.py\", line 1035, in send\n",
      "    self.connect()\n",
      "  File \"C:\\Users\\user\\anaconda3\\Lib\\http\\client.py\", line 1001, in connect\n",
      "    self.sock = self._create_connection(\n",
      "                ^^^^^^^^^^^^^^^^^^^^^^^^\n",
      "  File \"C:\\Users\\user\\anaconda3\\Lib\\socket.py\", line 841, in create_connection\n",
      "    for res in getaddrinfo(host, port, 0, SOCK_STREAM):\n",
      "               ^^^^^^^^^^^^^^^^^^^^^^^^^^^^^^^^^^^^^^^\n",
      "  File \"C:\\Users\\user\\anaconda3\\Lib\\socket.py\", line 976, in getaddrinfo\n",
      "    for res in _socket.getaddrinfo(host, port, family, type, proto, flags):\n",
      "               ^^^^^^^^^^^^^^^^^^^^^^^^^^^^^^^^^^^^^^^^^^^^^^^^^^^^^^^^^^^\n",
      "socket.gaierror: [Errno 11001] getaddrinfo failed\n"
     ]
    }
   ],
   "source": [
    "# site_crawl.py\n",
    "import http.client\n",
    "import threading\n",
    "import logging\n",
    "\n",
    "logging.basicConfig(level=logging.INFO, format='(%(threadName)-10s) %(message)s', )\n",
    "\n",
    "def save(html, file_absolute_path):\n",
    "    logging.info(\"saving {} bytes to {}\".format(len(html), file_absolute_path))\n",
    "    with open(file_absolute_path, 'wb+') as file:\n",
    "        file.write(html)\n",
    "        file.flush()\n",
    "\n",
    "\n",
    "def crawl(req):\n",
    "    logging.info(\"executing get request for parameters: {}\".format(str(req)))\n",
    "    connection = http.client.HTTPConnection(req[\"host\"], req[\"port\"])\n",
    "    connection.request(\"GET\", req['path'])\n",
    "    response = connection.getresponse()\n",
    "    logging.info(\"got {} response http code\".format(response.status))\n",
    "    logging.debug(\"headers: {}\".format(str(response.headers)))\n",
    "    response_content = response.read()\n",
    "    logging.debug(\"actual response: {}\".format(response_content))\n",
    "    return response_content\n",
    "\n",
    "\n",
    "class MyCrawler(threading.Thread):\n",
    "    def __init__(self, req, file_path):\n",
    "        threading.Thread.__init__(self, name=\"Crawler-{}\".format(req[\"host\"]))\n",
    "        self.req = req\n",
    "        self.file_path = file_path\n",
    "\n",
    "\n",
    "    def run(self):\n",
    "        global executed_crawlers\n",
    "        html = crawl(self.req)\n",
    "        save(html, self.file_path)\n",
    "\n",
    "\n",
    "def __main__():\n",
    "    continue_input = True\n",
    "    threads = []\n",
    "    while continue_input:\n",
    "        host = input(\"host: \")\n",
    "        port = 80 # int(input(\"port: \"))\n",
    "        path = \"/\" # input(\"path: \")\n",
    "        file_path = input(\"output file absolute path: \")\n",
    "        req = {\"host\": host, \"port\": port, \"path\": path}\n",
    "        threads.append(MyCrawler(req, file_path))\n",
    "        continue_input = input(\"add another? (y/N) \") == \"y\"\n",
    "\n",
    "    for t in threads:\n",
    "        t.start()\n",
    "\n",
    "__main__()"
   ]
  },
  {
   "cell_type": "markdown",
   "id": "18a1a017-8b28-4d65-b0c3-3c9a8cf9183e",
   "metadata": {},
   "source": [
    "#### 3.2.5\n",
    "\n",
    "Another thing that's worthy of being pointed out, is thee existence of the class threading.Timer. It is basically a subclass of Thread which, given a delay and function, it executes the function after delay has passed. Also, it can be cancelled at any point."
   ]
  },
  {
   "cell_type": "code",
   "execution_count": 11,
   "id": "d74a489a-ae4d-41e3-8ccf-2cef28ef2cb7",
   "metadata": {},
   "outputs": [
    {
     "name": "stderr",
     "output_type": "stream",
     "text": [
      "(MainThread) starting timers\n",
      "(MainThread) waiting before canceling t2\n",
      "(MainThread) canceling t1\n",
      "(MainThread) done\n",
      "(t1        ) worker running\n"
     ]
    }
   ],
   "source": [
    "import threading\n",
    "import time\n",
    "import logging\n",
    "\n",
    "\n",
    "logging.basicConfig(level=logging.DEBUG, format='(%(threadName)-10s) %(message)s',)\n",
    "\n",
    "def delayed():\n",
    "    logging.debug('worker running')\n",
    "    return\n",
    "\n",
    "t1 = threading.Timer(3, delayed)\n",
    "t1.name = 't1'\n",
    "t2 = threading.Timer(3, delayed)\n",
    "t2.name = 't2'\n",
    "\n",
    "logging.debug('starting timers')\n",
    "t1.start()\n",
    "t2.start()\n",
    "\n",
    "logging.debug('waiting before canceling %s', t2.name)\n",
    "time.sleep(2)\n",
    "logging.debug('canceling %s', t1.name)\n",
    "t2.cancel()\n",
    "logging.debug('done')"
   ]
  },
  {
   "cell_type": "markdown",
   "id": "9dcf36b7-f906-42f1-b567-761102aadc0b",
   "metadata": {},
   "source": [
    "Here, we are creating two timers, both execute the same function after 3 seconds. Then we wait 2 seconds and cancel one of them. In the output we can see only one of the timers executed the delayed function.\n",
    "This is useful on scenarios where we need to execute some process if something didn't happen in an interval of time, or even for schedule."
   ]
  },
  {
   "cell_type": "markdown",
   "id": "996b146f-f737-4455-9aaa-9c832b19358c",
   "metadata": {},
   "source": [
    "#### 3.2.6 Events: Communication Between Threads\n",
    "\n",
    "New, we all know that idea of using threds is making tasks independent from each other, but some times we need for a thread to wait for an event caused by another. Python provides a way of signaling between threads. To exxperiment with this, we'll make a race\n"
   ]
  },
  {
   "cell_type": "code",
   "execution_count": 16,
   "id": "f467ca89-5dbd-44ee-b756-9e2d81ce0ac7",
   "metadata": {},
   "outputs": [
    {
     "name": "stdout",
     "output_type": "stream",
     "text": [
      "I, rabbit, got to the goal!I, turtle, got to the goal!\n",
      "I, cheetah, got to the goal!\n",
      "I, monkey, got to the goal!\n",
      "I, cow, got to the goal!\n",
      "I, horse, got to the goal!\n",
      "I, tiger, got to the goal!\n",
      "I, lion, got to the goal!\n",
      "\n"
     ]
    }
   ],
   "source": [
    "#race.py\n",
    "import threading\n",
    "\n",
    "class Racer(threading.Thread):\n",
    "\n",
    "    def __init__(self, name, start_signal):\n",
    "        threading.Thread.__init__(self, name=name)\n",
    "        self.start_signal = start_signal\n",
    "\n",
    "    def run(self):\n",
    "        self.start_signal.wait()\n",
    "        print(\"I, {}, got to the goal!\".format(self.name))\n",
    "\n",
    "# class Race:\n",
    "\n",
    "#     def __init__(self, racer_names):\n",
    "#         self.start_signal = threading.Event()\n",
    "#         self.racers = [Racer(name, self.start_signal) for name in racer_names]\n",
    "#         for racer in self.racers:\n",
    "#             racer.start()\n",
    "\n",
    "#     def start(self):\n",
    "#         self.start_signal.set()\n",
    "\n",
    "def __main__():\n",
    "    race = Race([\"rabbit\", \"turtle\", \"cheetah\", \"monkey\", \"cow\", \"horse\", \"tiger\", \"lion\"])\n",
    "    race.start()\n",
    "\n",
    "\n",
    "__main__()"
   ]
  },
  {
   "cell_type": "code",
   "execution_count": null,
   "id": "bd25c24f-ba0c-4e7f-a7ad-4b9cfcf14a25",
   "metadata": {},
   "outputs": [],
   "source": []
  }
 ],
 "metadata": {
  "kernelspec": {
   "display_name": "Python 3 (ipykernel)",
   "language": "python",
   "name": "python3"
  },
  "language_info": {
   "codemirror_mode": {
    "name": "ipython",
    "version": 3
   },
   "file_extension": ".py",
   "mimetype": "text/x-python",
   "name": "python",
   "nbconvert_exporter": "python",
   "pygments_lexer": "ipython3",
   "version": "3.12.7"
  }
 },
 "nbformat": 4,
 "nbformat_minor": 5
}
