{
 "cells": [
  {
   "cell_type": "code",
   "execution_count": 2,
   "id": "472cd362-8462-456c-9170-5fab65adf61b",
   "metadata": {},
   "outputs": [],
   "source": [
    "import csv # Import the CSV module to handle reading and writing CSV files\n",
    "\n",
    "# Function to ead data from a CSV file into a list of rows\n",
    "def read(file_location):\n",
    "    # Open with file at a specified location in read and write mode ('r+') in newline handling\n",
    "    with open('my.csv', 'r+', newline='') as csv_file:\n",
    "        # Create a CSV reader's object, using space delimiter and '|' as qoute character\n",
    "        reader = csv.reader(csv_file, delimiter=' ', quotechar='|')\n",
    "        # Return a list of rows where each row is a list of values\n",
    "        return [row for row in reader]"
   ]
  },
  {
   "cell_type": "code",
   "execution_count": 3,
   "id": "ead63fcc-aeb0-4201-8b9e-af11337b2162",
   "metadata": {},
   "outputs": [],
   "source": [
    "# Function to write a list of rows to a CSV file\n",
    "def write(file_location, rows):\n",
    "    # Open the file at the specified location in write and read mode ('wr') with newline handling\n",
    "    with open(file_location, 'w+', newline='') as csv_file:\n",
    "        # Create a CSV writer object, using space as delimiter and '|' as quote character\n",
    "        writer = csv.writer(csv_file, delimiter=' ', quotechar='|')\n",
    "        # Iterate through each row in the provided rows list\n",
    "        for row in rows:\n",
    "            # Write the row to the CSV file\n",
    "            writer.writerow(row)"
   ]
  },
  {
   "cell_type": "code",
   "execution_count": 4,
   "id": "d5eb9a89-1750-48a5-8466-16e1e74fdc57",
   "metadata": {},
   "outputs": [],
   "source": [
    "# Function to read a CSV file into a list of dictionaries\n",
    "def read_dict(file_location):\n",
    "    # Open the file at the specified location in read and write mode ('r+')\n",
    "    with open(file_location, 'r+') as csv_file:\n",
    "        # Create a CSV DictReader object to read rows as dictionaries\n",
    "        reader = csv.DictReader(csv_file)\n",
    "        # Return a list of dictionaries, where each dictionary represents a row\n",
    "        return [row for row in reader]"
   ]
  },
  {
   "cell_type": "code",
   "execution_count": 9,
   "id": "cf4e7b23-ac69-475f-9aed-d48b81c61069",
   "metadata": {},
   "outputs": [],
   "source": [
    "# Function to write a list of dictionaries to a CSV file\n",
    "def write_dict(file_location, dictionaries):\n",
    "    # Open the file at the specified location in write and read mode ('w+')\n",
    "    with open(file_location, 'w+') as csv_file:\n",
    "        # get the headers (keys) from the first dictionary in the list\n",
    "        headers = [k for k in dictionaries[0]]\n",
    "        # Create a CSV DictWriter object with the specified headers\n",
    "        writer = csv.DictWriter(csv_file, fieldnames=headers)\n",
    "        # Writer the header row to the CSV file\n",
    "        writer.writeheader()\n",
    "        # Iterate through each dictionary in the provided list\n",
    "        for dictionary in dictionaries:\n",
    "            # Write the disctionary as a row in the CSV file\n",
    "            writer.writerow(dictionary)"
   ]
  },
  {
   "cell_type": "code",
   "execution_count": 10,
   "id": "7ca540b7-3787-4520-abce-ae3d63700603",
   "metadata": {},
   "outputs": [],
   "source": [
    "# Function to test reading and writing row CSV data (list-based)\n",
    "def raw_test():\n",
    "    # Prompt the user to input the number of columns for the CSV\n",
    "    columns = int(input(\"How many columns do you want to write? \"))\n",
    "    # Initialize on empty list to store input loop\n",
    "    input_rows = []\n",
    "    # Initialize a flag to control the input loop\n",
    "    keep_going = True\n",
    "    # Continue prompting for input until user chooses to stop\n",
    "    while keep_going:\n",
    "        # Prompt the user to input values for each column and store as a row\n",
    "        input_rows.append([input(\"column {}: \".format(i + 1)) for i in range(0, columns)])\n",
    "        # Ask if the user wants to continue adding rows\n",
    "        ui_keep_going = input(\"continue? (y/N): \")\n",
    "        # Stop the loop if the user does not input 'y'\n",
    "        if ui_keep_going != 'y':\n",
    "            keep_going = False\n",
    "\n",
    "    # Print the collected rows to the console\n",
    "    print(str(input_rows))\n",
    "\n",
    "    # Write the collected rows in a file named 'raw.csv'\n",
    "    write('raw.csv', input_rows)\n",
    "    # Read the contents of 'raw.csv' back into a variable\n",
    "    writter_value = read('raw.csv')\n",
    "    # Print the contents read from the file\n",
    "    print(str(written_value))"
   ]
  },
  {
   "cell_type": "code",
   "execution_count": 11,
   "id": "6caff37b-4861-46c1-a4ec-efe2bf5ca9f1",
   "metadata": {},
   "outputs": [],
   "source": [
    "# Function to test reading and writin dictionary-based CSV data\n",
    "def dict_test():\n",
    "    # Initialize an empty list to store dictionaries\n",
    "    input_rows = []\n",
    "    # Initialize a flag to control the input loop\n",
    "    keep_going = True\n",
    "    # Continue prompting for input until the user chooses to stop\n",
    "    while keep_going:\n",
    "        # Prompt the user to input values for name, last name and age\n",
    "        name = input('Name: ')\n",
    "        last_name = input('Last Name: ')\n",
    "        age = input(\"Age: \")\n",
    "        # Append a dictionary with the input values to the list\n",
    "        input_rows.append({'name': name, \"last_name\": last_name, \"age\": age})\n",
    "        # Ask if the user wants to continue adding entries\n",
    "        ui_keep_going = input(\"continue? (y/N): \")\n",
    "        # Stop the loop if the user does not input 'y'\n",
    "        if ui_keep_going != \"y\":\n",
    "            keep_going = False\n",
    "\n",
    "    # Print the collected dictionaries to the console\n",
    "    print(str(input_rows))\n",
    "\n",
    "    # Write the dictionaries to a file named 'dict.csv'\n",
    "    write_dict(\"dict.csv\", input_rows)\n",
    "    # Print the contents read from the file\n",
    "    print(str(written_value))\n",
    "\n"
   ]
  },
  {
   "cell_type": "code",
   "execution_count": 12,
   "id": "9eab78c7-3a7d-4c55-b21b-fd118d0c0257",
   "metadata": {},
   "outputs": [
    {
     "name": "stdin",
     "output_type": "stream",
     "text": [
      "Name:  Biodu\n",
      "Last Name:  Usingho\n",
      "Age:  32\n",
      "continue? (y/N):  n\n"
     ]
    },
    {
     "name": "stdout",
     "output_type": "stream",
     "text": [
      "[{'name': 'Biodu', 'last_name': 'Usingho', 'age': '32'}]\n"
     ]
    },
    {
     "ename": "NameError",
     "evalue": "name 'written_value' is not defined",
     "output_type": "error",
     "traceback": [
      "\u001b[1;31m---------------------------------------------------------------------------\u001b[0m",
      "\u001b[1;31mNameError\u001b[0m                                 Traceback (most recent call last)",
      "Cell \u001b[1;32mIn[12], line 2\u001b[0m\n\u001b[0;32m      1\u001b[0m \u001b[38;5;66;03m# Call the dict_test function to execute the dictionary base CSV file\u001b[39;00m\n\u001b[1;32m----> 2\u001b[0m dict_test()\n",
      "Cell \u001b[1;32mIn[11], line 27\u001b[0m, in \u001b[0;36mdict_test\u001b[1;34m()\u001b[0m\n\u001b[0;32m     25\u001b[0m write_dict(\u001b[38;5;124m\"\u001b[39m\u001b[38;5;124mdict.csv\u001b[39m\u001b[38;5;124m\"\u001b[39m, input_rows)\n\u001b[0;32m     26\u001b[0m \u001b[38;5;66;03m# Print the contents read from the file\u001b[39;00m\n\u001b[1;32m---> 27\u001b[0m \u001b[38;5;28mprint\u001b[39m(\u001b[38;5;28mstr\u001b[39m(written_value))\n",
      "\u001b[1;31mNameError\u001b[0m: name 'written_value' is not defined"
     ]
    }
   ],
   "source": [
    "# Call the dict_test function to execute the dictionary base CSV file\n",
    "dict_test()"
   ]
  },
  {
   "cell_type": "code",
   "execution_count": null,
   "id": "c5af3a68-dd41-4ce5-9590-f5a88bac69d4",
   "metadata": {},
   "outputs": [],
   "source": [
    "\n",
    "\n",
    "# Function to test reading and writing dictionary-based CSV data\n",
    "def dict_test():\n",
    "    # Initialize an empty list to store dictionaries\n",
    "    input_rows = []\n",
    "    # Initialize a flag to control the input loop\n",
    "    keep_going = True\n",
    "    # Continue prompting for input until the user chooses to stop\n",
    "    while keep_going:\n",
    "        # Prompt the user to input values for name, last name, and age\n",
    "        name = input(\"Name: \")\n",
    "        last_name = input(\"Last Name: \")\n",
    "        age = input(\"Age: \")\n",
    "        # Append a dictionary with the input values to the list\n",
    "        input_rows.append({\"name\": name, \"last_name\": last_name, \"age\": age})\n",
    "        # Ask if the user wants to continue adding entries\n",
    "        ui_keep_going = input(\"continue? (y/N): \")\n",
    "        # Stop the loop if the user does not input 'y'\n",
    "        if ui_keep_going != \"y\":\n",
    "            keep_going = False\n",
    "\n",
    "    # Print the collected dictionaries to the console\n",
    "    print(str(input_rows))\n",
    "\n",
    "    # Write the dictionaries to a file named 'dict.csv'\n",
    "    write_dict('dict.csv', input_rows)\n",
    "    # Read the contents of 'dict.csv' back into a variable\n",
    "    written_value = read_dict('dict.csv')\n",
    "    # Print the contents read from the file\n",
    "    print(str(written_value))\n",
    "\n",
    "\n",
    "# Call the dict_test function to execute the dictionary-based CSV test\n",
    "dict_test()"
   ]
  },
  {
   "cell_type": "markdown",
   "id": "a9120182-defe-4cc2-b539-54a56acc23f9",
   "metadata": {},
   "source": [
    "## Chapter 2\n",
    " ### Decorator Tutorial\n",
    " Sometimes, we encounter problems that require us to extend the behavior of a function, but we don’t want to change its im\n",
    "plementation.Some of those problems could be: logging spent time, caching, validating parameters, etc. All these solutions are\n",
    " often needed in more than one function: you often need to log the spent time of every http connection; you often need to cache\n",
    " more than one data base entity; you often need validation in more than one function. Today we will solve these 3 mentioned\n",
    " problems with Python decorators:\n",
    " • Spent Time Logging: We’ll decorate a couple functions to tell us how much time do they take to execute.\n",
    " • Caching: We’ll add cache to prevent a function from executing when its called several times with the same parameters.\n",
    " • Validating: We’ll validate a function’s input to prevent run time errors.\n",
    " ### 2.1 Understanding Functions\n",
    " Before we can jump into decorators, we need to understand how functions actually work. In essence, functions are procedures\n",
    " that return a value based on some given arguments."
   ]
  },
  {
   "cell_type": "code",
   "execution_count": 14,
   "id": "c8fbacde-46ae-48a4-a314-8f8e31ce2661",
   "metadata": {},
   "outputs": [
    {
     "name": "stdout",
     "output_type": "stream",
     "text": [
      "2\n"
     ]
    }
   ],
   "source": [
    "def my_function(my_arg):\n",
    "    return my_arg + 1\n",
    "\n",
    "# In Python functions are the first class object. Which means that it can be assigned to a variable\n",
    "def my_function(foo):\n",
    "    return foo + 1\n",
    "\n",
    "my_var = my_function\n",
    "print(str(my_var(1))) # print 2\n"
   ]
  },
  {
   "cell_type": "code",
   "execution_count": 13,
   "id": "0efad6b4-cfd6-4c5c-9f6c-fa269d4a2133",
   "metadata": {},
   "outputs": [
    {
     "name": "stdout",
     "output_type": "stream",
     "text": [
      "2\n"
     ]
    }
   ],
   "source": [
    "# They can be define inside another function\n",
    "def my_function(foo):\n",
    "    def my_inner_function():\n",
    "        return 1\n",
    "    return foo + my_inner_function()\n",
    "\n",
    "print(str(my_function(1))) # Still print 2\n",
    "\n"
   ]
  },
  {
   "cell_type": "code",
   "execution_count": 17,
   "id": "e130b99a-edaa-4f67-90a2-6e6b33a53fa5",
   "metadata": {},
   "outputs": [
    {
     "name": "stdout",
     "output_type": "stream",
     "text": [
      "2\n"
     ]
    }
   ],
   "source": [
    "# They can be passed as high parameter order function\n",
    "def my_function(foo, my_parameter_function):\n",
    "    return foo + my_parameter_function()\n",
    "\n",
    "def parameter_function(): return 1\n",
    "print(str(my_function(1, parameter_function))) # prints 2"
   ]
  },
  {
   "cell_type": "code",
   "execution_count": 18,
   "id": "02f0384f-0ffd-4693-9518-ee21922ed477",
   "metadata": {},
   "outputs": [
    {
     "name": "stdout",
     "output_type": "stream",
     "text": [
      "2\n"
     ]
    }
   ],
   "source": [
    "# And they can return other functions (also, higher-orderfunctions)\n",
    "def my_function(content):\n",
    "    def inner(foo):\n",
    "        return foo + content\n",
    "    return inner\n",
    "\n",
    "plus_one = my_function(1)\n",
    "print(str(plus_one(1)))"
   ]
  },
  {
   "cell_type": "markdown",
   "id": "c0094048-67f9-4ac9-ab8b-3606a28c6b6a",
   "metadata": {},
   "source": [
    " Another thing to notice, is that inner functions have access to the outer scope, that’s why we can use the parameter constant \n",
    " in the inner function of the last example. Also, this access is read-only, we cannot modify variables from the outers cope within \n",
    " an inner function.\n",
    " ### 2.2 Jumping into decorators\n",
    " Python decorators provide a nice and simple syntax to call higher-order functions. By definition, a decorator takes a function as a\n",
    " parameter, and returns a wrapper of that given function to extend its behavior without actually modifying it. Given this definition\n",
    " we can write somthing like:"
   ]
  },
  {
   "cell_type": "code",
   "execution_count": 3,
   "id": "9e3edb80-0672-4439-9376-f7acd6819a2e",
   "metadata": {},
   "outputs": [
    {
     "name": "stdout",
     "output_type": "stream",
     "text": [
      "you are calling replace_commas_with_spaces with my,commas,will,be,replaces,with,spaces as parameter\n",
      "my commas will be replaces with spaces\n"
     ]
    }
   ],
   "source": [
    "def decorator(function_to_decorate):\n",
    "    def wrapper(value):\n",
    "        print(\"you are calling {} with {} as parameter\".format(function_to_decorate.__name__,value))\n",
    "        return function_to_decorate(value)\n",
    "    return wrapper\n",
    "\n",
    "def replace_commas_with_spaces(value):\n",
    "    return value.replace(\",\",\" \")\n",
    "\n",
    "function_to_use = decorator(replace_commas_with_spaces)\n",
    "\n",
    "print(function_to_use(\"my,commas,will,be,replaces,with,spaces\"))"
   ]
  },
  {
   "cell_type": "markdown",
   "id": "fe7a15ab-6f9d-4fd5-99af-a9e71c17b64e",
   "metadata": {},
   "source": [
    "We are defining a higher-order function called decorator that receives a function as a\n",
    " parameter and returns a wrapper of that function. The wrapper just prints to the console the name of the called function and the\n",
    " given parameters before executing the wrapped function. And the wrapped functions just replaces the commas with spaces. Now\n",
    " we have a decorator written here."
   ]
  },
  {
   "cell_type": "code",
   "execution_count": 6,
   "id": "9e7e1f0d-7b19-420a-ba52-c9cfcb3cd418",
   "metadata": {},
   "outputs": [
    {
     "name": "stdout",
     "output_type": "stream",
     "text": [
      "wrapper\n",
      "__main__\n",
      "None\n",
      "you are calling replace_commas_with_spaces with  my,commas,will,be,replaced,with,spaces as parameter\n",
      "None\n"
     ]
    }
   ],
   "source": [
    "def decorator(function_to_decorate):\n",
    "    def wrapper(value):\n",
    "        print(\"you are calling {} with  {} as parameter\".format(function_to_decorate.__name__, value))\n",
    "    return wrapper\n",
    "\n",
    "@decorator\n",
    "def replace_commas_with_spaces(value):\n",
    "    return value.replace(\",\", \" \")\n",
    "\n",
    "print(replace_commas_with_spaces.__name__)\n",
    "print(replace_commas_with_spaces.__module__)\n",
    "print(replace_commas_with_spaces.__doc__)\n",
    "print(replace_commas_with_spaces(\"my,commas,will,be,replaced,with,spaces\"))\n",
    "\n",
    "# defdecorator(function_to_decorate):\n",
    "#  defwrapper(value):\n",
    "#  print(\"youarecalling{}with ’{}’asparameter\".format(function_to_decorate.\n",
    "#  __name__,value))\n",
    "#  returnfunction_to_decorate(value)\n",
    "#  returnwrapper\n",
    "#  @decorator\n",
    "#  defreplace_commas_with_spaces(value):\n",
    "#  returnvalue.replace(\",\",\"\")\n",
    "#  print(replace_commas_with_spaces.__name__)"
   ]
  },
  {
   "cell_type": "markdown",
   "id": "e1ee42d8-88b9-4bf8-8f15-450b0e948ff9",
   "metadata": {},
   "source": [
    "\n",
    " Now, debugging this can be area l pain, as there place_commas_with_spaces function is overridden with the wrapper,\n",
    " so its __name__, __doc__ and __module__ will also be overridden (as seen in the output).To avoid this behavior we will\n",
    " use functools.wraps, that prevents a wrapper from overriding its inner function properties."
   ]
  },
  {
   "cell_type": "code",
   "execution_count": 10,
   "id": "fd9f6f2e-d3dd-415f-b2da-55c321f59786",
   "metadata": {},
   "outputs": [
    {
     "name": "stdout",
     "output_type": "stream",
     "text": [
      "replace_commas_with_spaces\n",
      "__main__\n",
      "None\n",
      "you are calling replace_commas_with_spaces with 'my,commas,will,be,replaced,with,spaces' as parameter\n",
      "my commas will be replaced with spaces\n"
     ]
    }
   ],
   "source": [
    "from functools import wraps\n",
    "\n",
    "def decorator(function_to_decorate):\n",
    "    @wraps(function_to_decorate)\n",
    "    def wrapper(value):\n",
    "        print(\"you are calling {} with '{}' as parameter\".format(function_to_decorate.__name__, value))\n",
    "        return function_to_decorate(value)\n",
    "    return wrapper\n",
    "\n",
    "@decorator\n",
    "def replace_commas_with_spaces(value):\n",
    "    return value.replace(\",\", \" \")\n",
    "\n",
    "print(replace_commas_with_spaces.__name__)\n",
    "print(replace_commas_with_spaces.__module__)\n",
    "print(replace_commas_with_spaces.__doc__)\n",
    "print(replace_commas_with_spaces(\"my,commas,will,be,replaced,with,spaces\"))\n",
    "\n",
    "# from functools import wraps\n",
    "\n",
    "# def decorator(function_to_decorate):\n",
    "#     @wraps(function_to_decorate)\n",
    "#     defwrapper(value):\n",
    "#         print(\"you are calling {} with ’{}’ as parameter\".format(function_to_decorate.__name__,value))\n",
    "#         return function_to_decorate(value)\n",
    "#     return wrapper\n",
    "#  @decorator\n",
    "#  defreplace_commas_with_spaces(value):\n",
    "#  returnvalue.replace(\",\",\"\")\n",
    "#  print(replace_commas_with_spaces.__name__)\n",
    "#  print(replace_commas_with_spaces.__module__)\n",
    "#  print(replace_commas_with_spaces.__doc__)\n",
    "#  print(replace_commas_with_spaces(\"my,commas,will,be,replaces,with,spaces\"))"
   ]
  },
  {
   "cell_type": "markdown",
   "id": "509ee9db-9117-4a39-8b40-03057d0ed5af",
   "metadata": {},
   "source": [
    "### 2.3 The Practice\n",
    "\n",
    "So, we need to implement cache, spent time logging and validations. Let's combine them all by solving a bigger problem: **palindromes**. Let's make an algorithm that, given a word, will check if it's a palindrome. It is osn't it will convert it to palindrome."
   ]
  },
  {
   "cell_type": "code",
   "execution_count": 5,
   "id": "be139a4c-3bcd-4fd0-ab5a-db27623d600a",
   "metadata": {},
   "outputs": [
    {
     "name": "stdin",
     "output_type": "stream",
     "text": [
      "string to convert to a palindrome (exit to terminate program):  eni ti olorun gbe di de\n"
     ]
    },
    {
     "name": "stdout",
     "output_type": "stream",
     "text": [
      "eni ti olorun gbe di ded id ebg nurolo it ine\n"
     ]
    },
    {
     "name": "stdin",
     "output_type": "stream",
     "text": [
      "string to check (exit to terminate program):  enitolorungbedide\n"
     ]
    },
    {
     "name": "stdout",
     "output_type": "stream",
     "text": [
      "enitolorungbedidebgnurolotine\n"
     ]
    },
    {
     "name": "stdin",
     "output_type": "stream",
     "text": [
      "string to check (exit to terminate program):  anite lava la tina\n"
     ]
    },
    {
     "name": "stdout",
     "output_type": "stream",
     "text": [
      "anite lava la tinanit al aval etina\n"
     ]
    },
    {
     "name": "stdin",
     "output_type": "stream",
     "text": [
      "string to check (exit to terminate program):  menem\n"
     ]
    },
    {
     "name": "stdout",
     "output_type": "stream",
     "text": [
      "menem\n"
     ]
    },
    {
     "name": "stdin",
     "output_type": "stream",
     "text": [
      "string to check (exit to terminate program):  neme\n"
     ]
    },
    {
     "name": "stdout",
     "output_type": "stream",
     "text": [
      "nemen\n"
     ]
    },
    {
     "name": "stdin",
     "output_type": "stream",
     "text": [
      "string to check (exit to terminate program):  casa\n"
     ]
    },
    {
     "name": "stdout",
     "output_type": "stream",
     "text": [
      "casac\n"
     ]
    },
    {
     "name": "stdin",
     "output_type": "stream",
     "text": [
      "string to check (exit to terminate program):  casaca\n"
     ]
    },
    {
     "name": "stdout",
     "output_type": "stream",
     "text": [
      "casacasac\n"
     ]
    },
    {
     "name": "stdin",
     "output_type": "stream",
     "text": [
      "string to check (exit to terminate program):  exit\n"
     ]
    }
   ],
   "source": [
    "def is_palindrome(string_value):\n",
    "    char_array = list(string_value)\n",
    "    size = len(char_array)\n",
    "    half_size = int(size / 2)\n",
    "    for i in range(0, half_size):\n",
    "        if char_array[i] != char_array[size - i - 1]:\n",
    "            return False\n",
    "    return True\n",
    "\n",
    "def convert_to_palindrome(v):\n",
    "    def action(string_value, chars):\n",
    "        chars_to_append = list(string_value)[0:chars]\n",
    "        chars_to_append.reverse()\n",
    "        new_value = string_value + \"\".join(chars_to_append)\n",
    "        if not is_palindrome(new_value):\n",
    "            new_value = action(string_value, chars + 1)\n",
    "        return new_value\n",
    "    return action(v, 0)\n",
    "\n",
    "user_input = input(\"string to convert to a palindrome (exit to terminate program): \")\n",
    "while user_input != \"exit\":\n",
    "    print(str(convert_to_palindrome(user_input)))\n",
    "    user_input = input(\"string to check (exit to terminate program): \")"
   ]
  },
  {
   "cell_type": "markdown",
   "id": "8129c514-8080-4163-b7c1-4c1e72c0d236",
   "metadata": {},
   "source": [
    "As you can see, it works just fine. But we have a couple of issues:\n",
    "\n",
    "- I don't know how long does it take to process the input, or if its related to the length of it. (Spent time logging).\n",
    "- I don't want it to process twice the same input, it's not necessary. (cache)\n",
    "- It's designed to work with words or numbers, so I don't want spaces around. (validation)\n",
    "\n",
    "Let's get dirty here, and start with a spent time logging decorator."
   ]
  },
  {
   "cell_type": "code",
   "execution_count": 2,
   "id": "3b5c238f-1328-49d1-934e-f3633a9d938c",
   "metadata": {},
   "outputs": [
    {
     "name": "stdin",
     "output_type": "stream",
     "text": [
      "string to convert to palindrome (exit to terminate program):  anita lava latina\n"
     ]
    },
    {
     "name": "stdout",
     "output_type": "stream",
     "text": [
      "spent 0 microseconds in convert_to_palindrome with arguments ('anita lava latina',). Result was: anita lava latinanital aval atina\n",
      "anita lava latinanital aval atina\n"
     ]
    },
    {
     "name": "stdin",
     "output_type": "stream",
     "text": [
      "string to check (exit to terminate program):  make sure it is in clockwise not ati clockwose\n"
     ]
    },
    {
     "name": "stdout",
     "output_type": "stream",
     "text": [
      "spent 1002 microseconds in convert_to_palindrome with arguments ('make sure it is in clockwise not ati clockwose',). Result was: make sure it is in clockwise not ati clockwosesowkcolc ita ton esiwkcolc ni si ti erus ekam\n",
      "make sure it is in clockwise not ati clockwosesowkcolc ita ton esiwkcolc ni si ti erus ekam\n"
     ]
    },
    {
     "name": "stdin",
     "output_type": "stream",
     "text": [
      "string to check (exit to terminate program):  exit\n"
     ]
    }
   ],
   "source": [
    "import datetime \n",
    "from functools import wraps\n",
    "\n",
    "def spent_time_logging_decorator(function):\n",
    "    @wraps(function)\n",
    "    def wrapper(*args):\n",
    "        start = datetime.datetime.now()\n",
    "        result = function(*args)\n",
    "        end = datetime.datetime.now()\n",
    "        spent_time = end - start\n",
    "        print(\"spent {} microseconds in {} with arguments {}. Result was: {}\".format(spent_time.microseconds, function.__name__, str(args), result))\n",
    "        return result\n",
    "\n",
    "    return wrapper\n",
    "\n",
    "def is_palindrome(string_value):\n",
    "    char_array = list(string_value)\n",
    "    size = len(char_array)\n",
    "    half_size = int(size / 2)\n",
    "    for i in range(0, half_size):\n",
    "        if char_array[i] != char_array[size - i - 1]:\n",
    "            return False\n",
    "    return True\n",
    "\n",
    "@spent_time_logging_decorator\n",
    "def convert_to_palindrome(v):\n",
    "    def action(string_value, chars):\n",
    "        chars_to_append = list(string_value)[0:chars]\n",
    "        chars_to_append.reverse()\n",
    "        new_value = string_value + \"\".join(chars_to_append)\n",
    "        if not is_palindrome(new_value):\n",
    "            new_value = action(string_value, chars + 1)\n",
    "        return new_value\n",
    "\n",
    "    return action(v, 0)\n",
    "\n",
    "user_input = input(\"string to convert to palindrome (exit to terminate program): \")\n",
    "while user_input != \"exit\":\n",
    "    print(str(convert_to_palindrome(user_input)))\n",
    "    user_input = input(\"string to check (exit to terminate program): \")"
   ]
  },
  {
   "cell_type": "markdown",
   "id": "20d815b5-ab29-4950-8da7-8d5fce53f08e",
   "metadata": {},
   "source": [
    "It's pretty simple,we wrote a decorator which return a wrapper that gets the time before and after executor and then calculate the time spent and logs it, with the called function, parameters and result. The output looks like the result you have seen above.\n",
    "\n",
    "As you could see, there is lot of information in the log line, and implementation was not changed at all. Now let's add cache to it."
   ]
  },
  {
   "cell_type": "code",
   "execution_count": 4,
   "id": "4f09d914-eeec-48c2-a7da-c99de8a4d98f",
   "metadata": {},
   "outputs": [
    {
     "name": "stdin",
     "output_type": "stream",
     "text": [
      "string to convert to palindrome (exit to terminate programe):  Anita Lava LatinA\n"
     ]
    },
    {
     "name": "stdout",
     "output_type": "stream",
     "text": [
      "result for args ('Anita Lava LatinA',) was not found in cache...\n",
      "spent 0 microseconds in convert_to_palindrome with arguments ('Anita Lava LatinA',). Result was: Anita Lava LatinAnitaL avaL atinA\n",
      "Anita Lava LatinAnitaL avaL atinA\n"
     ]
    },
    {
     "name": "stdin",
     "output_type": "stream",
     "text": [
      "string to check (exit to terminate program):  E ni ti Olorun Oba gbe di de!\n"
     ]
    },
    {
     "name": "stdout",
     "output_type": "stream",
     "text": [
      "result for args ('E ni ti Olorun Oba gbe di de!',) was not found in cache...\n",
      "spent 0 microseconds in convert_to_palindrome with arguments ('E ni ti Olorun Oba gbe di de!',). Result was: E ni ti Olorun Oba gbe di de!ed id ebg abO nurolO it in E\n",
      "E ni ti Olorun Oba gbe di de!ed id ebg abO nurolO it in E\n"
     ]
    },
    {
     "name": "stdin",
     "output_type": "stream",
     "text": [
      "string to check (exit to terminate program):  exit\n"
     ]
    }
   ],
   "source": [
    "def cache_decorator(function):\n",
    "    cache = {}\n",
    "\n",
    "    @wraps(function)\n",
    "    def wrapper(*args):\n",
    "        hashed_arguments = hash(str(args))\n",
    "        if hashed_arguments not in cache:\n",
    "            print(\"result for args {} was not found in cache...\".format(str(args)))\n",
    "            cache[hashed_arguments] = function(*args)\n",
    "        return cache[hashed_arguments]\n",
    "    return wrapper\n",
    "\n",
    "\n",
    "\n",
    "def spent_time_logging_decorator(function):\n",
    "    @wraps(function)\n",
    "    def wrapper(*args):\n",
    "        start = datetime.datetime.now()\n",
    "        result = function(*args)\n",
    "        end = datetime.datetime.now()\n",
    "        spent_time = end - start\n",
    "        print(\"spent {} microseconds in {} with arguments {}. Result was: {}\".format(spent_time.microseconds, function.__name__, str(args), result))\n",
    "        return result\n",
    "\n",
    "    return wrapper\n",
    "\n",
    "\n",
    "\n",
    "def is_palindrome(string_value):\n",
    "    char_array = list(string_value)\n",
    "    size = len(char_array)\n",
    "    half_size = int(size / 2)\n",
    "    for i in range(0, half_size):\n",
    "        if char_array[i] != char_array[size - i - 1]:\n",
    "            return False\n",
    "    return True\n",
    "\n",
    "\n",
    "\n",
    "@spent_time_logging_decorator\n",
    "@cache_decorator\n",
    "def convert_to_palindrome(v):\n",
    "    def action(string_value, chars):\n",
    "        chars_to_append = list(string_value)[0:chars]\n",
    "        chars_to_append.reverse()\n",
    "        new_value = string_value + \"\".join(chars_to_append)\n",
    "        if not is_palindrome(new_value):\n",
    "            new_value = action(string_value, chars + 1)\n",
    "        return new_value\n",
    "\n",
    "    return action(v, 0)\n",
    "\n",
    "\n",
    "\n",
    "user_input = input(\"string to convert to palindrome (exit to terminate programe): \")\n",
    "while user_input != \"exit\":\n",
    "    print(str(convert_to_palindrome(user_input)))\n",
    "    user_input = input(\"string to check (exit to terminate program): \")"
   ]
  },
  {
   "cell_type": "markdown",
   "id": "40c37c7d-4c64-4647-aa46-208cf419cb3d",
   "metadata": {},
   "source": [
    "This is a very simple implementation of cache. No TTL, no thread safety. It's just dictionary which which keys are the arguments. If no value with given key was found, it create it, then retrieves it. As seen in the output above."
   ]
  },
  {
   "cell_type": "markdown",
   "id": "98060c36-9918-451f-8c3d-f592626ada94",
   "metadata": {},
   "source": [
    "Now it's time to validate!"
   ]
  },
  {
   "cell_type": "code",
   "execution_count": 6,
   "id": "8aa983df-d401-40b7-8af0-20bbf12f25a4",
   "metadata": {},
   "outputs": [
    {
     "name": "stdin",
     "output_type": "stream",
     "text": [
      "string to convert to palindrome (exit to terminate program):  Ani Ta Lava La Ti Na\n"
     ]
    },
    {
     "name": "stdout",
     "output_type": "stream",
     "text": [
      "spent 0 microseconds in convert_to_palindrome with arguments ('Ani Ta Lava La Ti Na',). Result was: input shouldn't contain spaces.\n",
      "input shouldn't contain spaces.\n"
     ]
    },
    {
     "name": "stdin",
     "output_type": "stream",
     "text": [
      "string to check (exit to terminate program):  exit\n"
     ]
    }
   ],
   "source": [
    "def validation_decorator(validator, if_invalid=None):\n",
    "    def decorator(function):\n",
    "        @wraps(function)\n",
    "        def wrapper(*args):\n",
    "            if validator(*args):\n",
    "                return function(*args)\n",
    "            else:\n",
    "                return if_invalid\n",
    "        return wrapper\n",
    "    return decorator\n",
    "\n",
    "\n",
    "def cache_decorator(function):\n",
    "    cache = {}\n",
    "\n",
    "    @wraps(function)\n",
    "    def wrapper(*args):\n",
    "        hashed_arguments = hash(str(args))\n",
    "        if hashed_arguments not in cache:\n",
    "            print(\"result for args {} was not found in cache...\".format(str(args)))\n",
    "            cache[hashed_arguments] = function(*args)\n",
    "        return cache[hashed_arguments]\n",
    "    return wrapper\n",
    "\n",
    "\n",
    "def spent_time_logging_decorator(function):\n",
    "    @wraps(function)\n",
    "    def wrapper(*args):\n",
    "        start = datetime.datetime.now()\n",
    "        result = function(*args)\n",
    "        end = datetime.datetime.now()\n",
    "        spent_time = end - start\n",
    "        print(\"spent {} microseconds in {} with arguments {}. Result was: {}\".format(spent_time.microseconds, function.__name__, str(args), result))\n",
    "        return result\n",
    "\n",
    "    return wrapper\n",
    "\n",
    "\n",
    "def is_palindrome(string_value):\n",
    "    char_array = list(string_value)\n",
    "    size = len(char_array)\n",
    "    half_size = int(size / 2)\n",
    "    for i in range(0, half_size):\n",
    "        if char_array[i] != char_array[size - i - 1]:\n",
    "            return False\n",
    "    return true\n",
    "\n",
    "\n",
    "def should_not_contain_spaces(*args):\n",
    "    return False not in map(lambda x: \" \" not in str(x), args)\n",
    "\n",
    "\n",
    "@spent_time_logging_decorator\n",
    "@validation_decorator(should_not_contain_spaces, \"input shouldn't contain spaces.\")\n",
    "@cache_decorator\n",
    "def convert_to_palindrome(v):\n",
    "    def action(string_value, chars):\n",
    "        chars_to_append = list(string_value)[0:chars]\n",
    "        chars_to_append.reverse()\n",
    "        new_value = string_value + \"\".join(chars_to_append)\n",
    "        if not is_palindrome(new_value):\n",
    "            new_value = action(string_value, chars + 1)\n",
    "        return new_value\n",
    "\n",
    "    return action(v, 0)\n",
    "\n",
    "\n",
    "user_input = input(\"string to convert to palindrome (exit to terminate program): \")\n",
    "while user_input != \"exit\":\n",
    "    print(str(convert_to_palindrome(user_input)))\n",
    "    user_input = input(\"string to check (exit to terminate program): \")"
   ]
  },
  {
   "cell_type": "code",
   "execution_count": 1,
   "id": "8cfca2ec-2497-4349-b4a1-730c43f9e316",
   "metadata": {},
   "outputs": [
    {
     "ename": "ModuleNotFoundError",
     "evalue": "No module named 'fpdf'",
     "output_type": "error",
     "traceback": [
      "\u001b[1;31m---------------------------------------------------------------------------\u001b[0m",
      "\u001b[1;31mModuleNotFoundError\u001b[0m                       Traceback (most recent call last)",
      "Cell \u001b[1;32mIn[1], line 1\u001b[0m\n\u001b[1;32m----> 1\u001b[0m \u001b[38;5;28;01mfrom\u001b[39;00m \u001b[38;5;21;01mfpdf\u001b[39;00m \u001b[38;5;28;01mimport\u001b[39;00m FPDF\n\u001b[0;32m      2\u001b[0m \u001b[38;5;28;01mfrom\u001b[39;00m \u001b[38;5;21;01mdatetime\u001b[39;00m \u001b[38;5;28;01mimport\u001b[39;00m datetime\n\u001b[0;32m      4\u001b[0m \u001b[38;5;66;03m# Custom PDF class\u001b[39;00m\n",
      "\u001b[1;31mModuleNotFoundError\u001b[0m: No module named 'fpdf'"
     ]
    }
   ],
   "source": [
    "from fpdf import FPDF\n",
    "from datetime import datetime\n",
    "\n",
    "# Custom PDF class\n",
    "class PDF(FPDF):\n",
    "    def header(self):\n",
    "        self.set_font(\"Arial\", \"B\", 12)\n",
    "        self.cell(0, 10, \"Glitz Unit - WhiteOlive Christian Assembly\", ln=True, align=\"C\")\n",
    "        self.ln(5)\n",
    "\n",
    "    def footer(self):\n",
    "        self.set_y(-15)\n",
    "        self.set_font(\"Arial\", \"I\", 8)\n",
    "        self.cell(0, 10, f\"Page {self.page_no()}\", align=\"C\")\n",
    "\n",
    "# Create PDF\n",
    "pdf = PDF()\n",
    "pdf.add_page()\n",
    "pdf.set_auto_page_break(auto=True, margin=15)\n",
    "\n",
    "pdf.set_font(\"Arial\", \"\", 12)\n",
    "\n",
    "# Report content\n",
    "content = f\"\"\"\n",
    "{datetime.today().strftime('%B %d, %Y')}\n",
    "\n",
    "To:\n",
    "The Unit Leader\n",
    "WhiteOlive Christian Assembly\n",
    "Lagos, Nigeria\n",
    "\n",
    "Subject: Unit Report on Member Commitment – Finance and Physical Presence\n",
    "\n",
    "Dear Sir,\n",
    "\n",
    "Greetings in the name of God, the Father of our Lord Jesus Christ. Thank you for your continued support and leadership.\n",
    "\n",
    "Please find below the report on the current level of commitment among Glitz members—both financially and in terms of physical presence for our duties.\n",
    "\n",
    "1. Financial Commitment\n",
    "\n",
    "Each member is expected to contribute ₦2,000 monthly. As you suggested when requesting this report, I contacted Sister Ima, and she sent the unit account details. The statement shows the pattern and current status of contributions. These contributions have been made by members both in Nigeria and in the diaspora.\n",
    "\n",
    "2. Physical Presence and Participation\n",
    "\n",
    "Our unit meets every Saturday, mostly in the morning, for our main responsibility—cleaning. On Sundays, we assign members to prepare the toilets and check the auditorium for cleanliness. After the service, we all come together to:\n",
    "\n",
    "- Pack the materials used in the toilets\n",
    "- Dispose of trash and clean up wastebaskets\n",
    "- Return toilet rolls, liquid soap, and other items\n",
    "- Arrange everything properly back into the store\n",
    "\n",
    "This routine has been clearly communicated to all team members several times. However, turnout has been low and discouraging.\n",
    "\n",
    "We currently have 20 members. Unfortunately, many do not participate in cleaning duties on either Saturday or Sunday. Despite more than ten members living in Lagos, consistent attendance remains a challenge.\n",
    "\n",
    "Out of the 20 members:\n",
    "\n",
    "- 2 to 4 are no longer attending WhiteOlive services, even though they live in Lagos.\n",
    "- Sister Ronke has shown increased commitment this year.\n",
    "- Sister Peace stepped back due to her father’s health, which she explained when contacted.\n",
    "- Sister Anna may have relocated after childbirth.\n",
    "- Sister Irene still resides in Lagos but moved to a far location.\n",
    "\n",
    "Members in the diaspora include Brother Femi Alaka, Sister Ayomipo, Sister Taiwo, and Sister Kemi. They remain financially committed despite relocating abroad.\n",
    "\n",
    "Members in Lagos not attending cleaning duties include Sister Taiwo Adegoke, Sister Adeola, Sister Oma, and Brother Tunde.\n",
    "\n",
    "- Sister Adeola and Oma cited distance and family responsibilities as barriers.\n",
    "- Brother Tunde occasionally attended in the past but has not participated this year. I spoke with him two months ago, and he promised to resume.\n",
    "- I haven’t spoken directly with Sister Taiwo, but her residence is quite far.\n",
    "\n",
    "Committed members include Sister Irewolede, Sister Ima, Sister Lade, Sister Uzor, Sister Ronke, and myself (Biodun). Two new brothers are still on probation and will be observed further.\n",
    "\n",
    "Although Saturday attendance is often emphasized, I must emphasize that Sunday duties are equally essential.\n",
    "\n",
    "My Plea\n",
    "\n",
    "Sir, I humbly request that members not be removed at this point. Instead, I suggest we reach out to those not participating to understand their concerns, clarify expectations, and discuss the way forward.\n",
    "\n",
    "Some members may be going through challenges or may be silently stepping back. A simple conversation could bring clarity or rekindle their interest in the unit’s mission.\n",
    "\n",
    "Suggested Adjustment\n",
    "\n",
    "To better manage attendance challenges—especially for those who can’t join on Saturdays—I recommend restructuring Sunday duties.\n",
    "\n",
    "Members present at Sunday services should be responsible for:\n",
    "\n",
    "- Setting up the toilets before service (liquid soap, toilet rolls, air fresheners)\n",
    "- Placing trash bins in the auditorium\n",
    "- Supervising general cleanliness\n",
    "- Packing up all materials after service and returning them to the store\n",
    "\n",
    "This structure allows everyone to contribute meaningfully, regardless of Saturday availability.\n",
    "\n",
    "Thank you once again, Sir, for your guidance and support. May God continue to strengthen you.\n",
    "\n",
    "Yours faithfully,\n",
    "Biodun\n",
    "(On behalf of Glitz Unit)\n",
    "\"\"\"\n",
    "\n",
    "# Add content to PDF\n",
    "for line in content.strip().split('\\n'):\n",
    "    pdf.multi_cell(0, 10, line.strip())\n",
    "\n",
    "# Save the PDF\n",
    "output_path = \"/mnt/data/Glitz_Unit_Report.pdf\"\n",
    "pdf.output(output_path)\n",
    "\n",
    "output_path\n"
   ]
  },
  {
   "cell_type": "code",
   "execution_count": 2,
   "id": "67f6c767-c0aa-45b0-a9b1-2daf75a705b0",
   "metadata": {},
   "outputs": [
    {
     "name": "stdout",
     "output_type": "stream",
     "text": [
      "Collecting fpdf\n",
      "  Downloading fpdf-1.7.2.tar.gz (39 kB)\n",
      "  Preparing metadata (setup.py): started\n",
      "  Preparing metadata (setup.py): finished with status 'done'\n",
      "Building wheels for collected packages: fpdf\n",
      "  Building wheel for fpdf (setup.py): started\n",
      "  Building wheel for fpdf (setup.py): finished with status 'done'\n",
      "  Created wheel for fpdf: filename=fpdf-1.7.2-py2.py3-none-any.whl size=40714 sha256=da59ea2dc305c9d2fb0609c388dc9d49267f3ccc855076c1646555e3255e1e0c\n",
      "  Stored in directory: c:\\users\\user\\appdata\\local\\pip\\cache\\wheels\\6e\\62\\11\\dc73d78e40a218ad52e7451f30166e94491be013a7850b5d75\n",
      "Successfully built fpdf\n",
      "Installing collected packages: fpdf\n",
      "Successfully installed fpdf-1.7.2\n"
     ]
    }
   ],
   "source": [
    "!pip install fpdf\n"
   ]
  },
  {
   "cell_type": "code",
   "execution_count": null,
   "id": "2c5232b8-01b0-4259-aed7-b2f05b802fc8",
   "metadata": {},
   "outputs": [],
   "source": []
  }
 ],
 "metadata": {
  "kernelspec": {
   "display_name": "Python 3 (ipykernel)",
   "language": "python",
   "name": "python3"
  },
  "language_info": {
   "codemirror_mode": {
    "name": "ipython",
    "version": 3
   },
   "file_extension": ".py",
   "mimetype": "text/x-python",
   "name": "python",
   "nbconvert_exporter": "python",
   "pygments_lexer": "ipython3",
   "version": "3.12.7"
  }
 },
 "nbformat": 4,
 "nbformat_minor": 5
}
