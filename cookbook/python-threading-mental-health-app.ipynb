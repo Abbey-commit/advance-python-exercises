{
 "cells": [
  {
   "cell_type": "markdown",
   "id": "feb6cf96-ecbe-4ee4-90b3-f039a4323ea7",
   "metadata": {},
   "source": [
    "#### Learning Python Threading: A Beginner’s Guide to Concurrency - Building Mental Health Solutions with Python Threading\n",
    "\n",
    "Here’s how concurrency can power mental health tech—and a simple example to spark your curiosity!Imagine a mental health chatbot that listens to users, logs mood data, and sends timely reminders—all at once. Threading makes this possible by running tasks concurrently without freezing the app.\n",
    "\n"
   ]
  },
  {
   "cell_type": "code",
   "execution_count": 1,
   "id": "e4b9a5c3-84d0-4b4c-8207-f4524c8f2d82",
   "metadata": {},
   "outputs": [
    {
     "name": "stderr",
     "output_type": "stream",
     "text": [
      "Alex-Log mood: Starting Log mood for Alex\n",
      "Alex-Send reminder: Starting Send reminder for Alex\n",
      "Sam-Analyze journal: Starting Analyze journal for Sam\n",
      "Alex-Log mood: Completed Log mood for Alex\n",
      "Alex-Send reminder: Completed Send reminder for Alex\n",
      "Sam-Analyze journal: Completed Analyze journal for Sam\n"
     ]
    },
    {
     "name": "stdout",
     "output_type": "stream",
     "text": [
      "App ready for next task!\n"
     ]
    }
   ],
   "source": [
    "import threading\n",
    "import time\n",
    "import logging\n",
    "\n",
    "logging.basicConfig(level=logging.INFO, format='%(threadName)s: %(message)s')\n",
    "\n",
    "class MoodTracker(threading.Thread):\n",
    "    def __init__(self, user, task, duration):\n",
    "        super().__init__(name=f\"{user}-{task}\")\n",
    "        self.user = user\n",
    "        self.task = task\n",
    "        self.duration = duration\n",
    "\n",
    "    def run(self):\n",
    "        logging.info(f\"Starting {self.task} for {self.user}\")\n",
    "        time.sleep(self.duration)\n",
    "        logging.info(f\"Completed {self.task} for {self.user}\")\n",
    "\n",
    "# Simulate a mental health app\n",
    "threads = [\n",
    "    MoodTracker(\"Alex\", \"Log mood\", 1),\n",
    "    MoodTracker(\"Alex\", \"Send reminder\", 2),\n",
    "    MoodTracker(\"Sam\", \"Analyze journal\", 3)\n",
    "]\n",
    "for t in threads:\n",
    "    t.start()\n",
    "for t in threads:\n",
    "    t.join()\n",
    "\n",
    "print(\"App ready for next task!\")"
   ]
  },
  {
   "cell_type": "markdown",
   "id": "fd722edf-e970-442b-b9fc-9f585ec2e434",
   "metadata": {},
   "source": [
    "#### What’s happening here?\n",
    "\n",
    "Each MoodTracker thread handles a task (e.g., logging a mood, sending a reminder) for a user.\n",
    "Threads run simultaneously, so the app stays responsive—crucial for real-time mental health support.\n",
    "The join() ensures all tasks complete before moving on, keeping the app reliable.\n",
    "\n"
   ]
  },
  {
   "cell_type": "code",
   "execution_count": null,
   "id": "79e305d2-53d6-47fb-9a15-1c4e7b7b6873",
   "metadata": {},
   "outputs": [],
   "source": []
  }
 ],
 "metadata": {
  "kernelspec": {
   "display_name": "Python 3 (ipykernel)",
   "language": "python",
   "name": "python3"
  },
  "language_info": {
   "codemirror_mode": {
    "name": "ipython",
    "version": 3
   },
   "file_extension": ".py",
   "mimetype": "text/x-python",
   "name": "python",
   "nbconvert_exporter": "python",
   "pygments_lexer": "ipython3",
   "version": "3.12.7"
  }
 },
 "nbformat": 4,
 "nbformat_minor": 5
}
