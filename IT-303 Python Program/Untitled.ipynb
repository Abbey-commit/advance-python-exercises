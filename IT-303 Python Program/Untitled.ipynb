{
 "cells": [
  {
   "cell_type": "markdown",
   "id": "24be86d9-688a-4899-bb49-d9d0ca28f28f",
   "metadata": {},
   "source": [
    "Develop a Python for you company. A list named employees containing 200 employee names. The last five being company management. You need to slice the list to display all employees excluding management. Which code segmen"
   ]
  },
  {
   "cell_type": "code",
   "execution_count": 10,
   "id": "3e1e1952-60d3-4bbd-92b4-5f0291d120d9",
   "metadata": {},
   "outputs": [
    {
     "name": "stdout",
     "output_type": "stream",
     "text": [
      "['Empoyee1', 'Empoyee2', 'Empoyee3', 'Empoyee4', 'Empoyee5', 'Empoyee6', 'Empoyee7', 'Empoyee8', 'Empoyee9', 'Empoyee10', 'Empoyee11', 'Empoyee12', 'Empoyee13', 'Empoyee14', 'Empoyee15', 'Empoyee16', 'Empoyee17', 'Empoyee18', 'Empoyee19', 'Empoyee20', 'Empoyee21', 'Empoyee22', 'Empoyee23', 'Empoyee24', 'Empoyee25', 'Empoyee26', 'Empoyee27', 'Empoyee28', 'Empoyee29', 'Empoyee30', 'Empoyee31', 'Empoyee32', 'Empoyee33', 'Empoyee34', 'Empoyee35', 'Empoyee36', 'Empoyee37', 'Empoyee38', 'Empoyee39', 'Empoyee40', 'Empoyee41', 'Empoyee42', 'Empoyee43', 'Empoyee44', 'Empoyee45', 'Empoyee46', 'Empoyee47', 'Empoyee48', 'Empoyee49', 'Empoyee50', 'Empoyee51', 'Empoyee52', 'Empoyee53', 'Empoyee54', 'Empoyee55', 'Empoyee56', 'Empoyee57', 'Empoyee58', 'Empoyee59', 'Empoyee60', 'Empoyee61', 'Empoyee62', 'Empoyee63', 'Empoyee64', 'Empoyee65', 'Empoyee66', 'Empoyee67', 'Empoyee68', 'Empoyee69', 'Empoyee70', 'Empoyee71', 'Empoyee72', 'Empoyee73', 'Empoyee74', 'Empoyee75', 'Empoyee76', 'Empoyee77', 'Empoyee78', 'Empoyee79', 'Empoyee80', 'Empoyee81', 'Empoyee82', 'Empoyee83', 'Empoyee84', 'Empoyee85', 'Empoyee86', 'Empoyee87', 'Empoyee88', 'Empoyee89', 'Empoyee90', 'Empoyee91', 'Empoyee92', 'Empoyee93', 'Empoyee94', 'Empoyee95', 'Empoyee96', 'Empoyee97', 'Empoyee98', 'Empoyee99', 'Empoyee100', 'Empoyee101', 'Empoyee102', 'Empoyee103', 'Empoyee104', 'Empoyee105', 'Empoyee106', 'Empoyee107', 'Empoyee108', 'Empoyee109', 'Empoyee110', 'Empoyee111', 'Empoyee112', 'Empoyee113', 'Empoyee114', 'Empoyee115', 'Empoyee116', 'Empoyee117', 'Empoyee118', 'Empoyee119', 'Empoyee120', 'Empoyee121', 'Empoyee122', 'Empoyee123', 'Empoyee124', 'Empoyee125', 'Empoyee126', 'Empoyee127', 'Empoyee128', 'Empoyee129', 'Empoyee130', 'Empoyee131', 'Empoyee132', 'Empoyee133', 'Empoyee134', 'Empoyee135', 'Empoyee136', 'Empoyee137', 'Empoyee138', 'Empoyee139', 'Empoyee140', 'Empoyee141', 'Empoyee142', 'Empoyee143', 'Empoyee144', 'Empoyee145', 'Empoyee146', 'Empoyee147', 'Empoyee148', 'Empoyee149', 'Empoyee150', 'Empoyee151', 'Empoyee152', 'Empoyee153', 'Empoyee154', 'Empoyee155', 'Empoyee156', 'Empoyee157', 'Empoyee158', 'Empoyee159', 'Empoyee160', 'Empoyee161', 'Empoyee162', 'Empoyee163', 'Empoyee164', 'Empoyee165', 'Empoyee166', 'Empoyee167', 'Empoyee168', 'Empoyee169', 'Empoyee170', 'Empoyee171', 'Empoyee172', 'Empoyee173', 'Empoyee174', 'Empoyee175', 'Empoyee176', 'Empoyee177', 'Empoyee178', 'Empoyee179', 'Empoyee180', 'Empoyee181', 'Empoyee182', 'Empoyee183', 'Empoyee184', 'Empoyee185', 'Empoyee186', 'Empoyee187', 'Empoyee188', 'Empoyee189', 'Empoyee190', 'Empoyee191', 'Empoyee192', 'Empoyee193', 'Empoyee194', 'Empoyee195', 'Management1']\n"
     ]
    }
   ],
   "source": [
    "employees = []\n",
    "\n",
    "for i in range(1, 196):\n",
    "    employees.append('Empoyee' + str(i))\n",
    "\n",
    "\n",
    "for i in range(1, 6):\n",
    "    employees.append(\"Management\" + str(i))\n",
    "\n",
    "\n",
    "# print(employees)\n",
    "# print(employees[:-5])\n",
    "# print(employees[0: -5])\n",
    "# print(employees[1:-4])\n",
    "# # One manage present and one employee is missing\n",
    "# print(employees[1:-5]) # One employee is missing\n",
    "print(employees[0:-4]) # One manager present"
   ]
  },
  {
   "cell_type": "code",
   "execution_count": null,
   "id": "8e84b194-5b9f-4422-8d57-3f03b143e025",
   "metadata": {},
   "outputs": [],
   "source": []
  }
 ],
 "metadata": {
  "kernelspec": {
   "display_name": "Python 3 (ipykernel)",
   "language": "python",
   "name": "python3"
  },
  "language_info": {
   "codemirror_mode": {
    "name": "ipython",
    "version": 3
   },
   "file_extension": ".py",
   "mimetype": "text/x-python",
   "name": "python",
   "nbconvert_exporter": "python",
   "pygments_lexer": "ipython3",
   "version": "3.12.7"
  }
 },
 "nbformat": 4,
 "nbformat_minor": 5
}
