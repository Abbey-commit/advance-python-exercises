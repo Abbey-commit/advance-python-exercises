{
 "cells": [
  {
   "cell_type": "markdown",
   "id": "6dcd88a6-04ab-46db-84f9-c6f348834d42",
   "metadata": {},
   "source": [
    "dictionary in Python are data structures that optimize element lookups by associating keys to values. They are arrays of (key, value) pairs.\n",
    "\n",
    "#### Definition\n",
    "\n",
    "It has a similar syntax with JSON's. An object start with curly braces and ends with it. Each pair is separated by comma, and the (key, value) pairs are associated through a colon(:). "
   ]
  },
  {
   "cell_type": "code",
   "execution_count": 4,
   "id": "1af9959c-f65b-4287-9d1e-f462beff2b2a",
   "metadata": {},
   "outputs": [],
   "source": [
    "EXAMPLE_DICT = {\n",
    "    \"animals\": [\"dog\", \"cat\", \"fish\"],\n",
    "    \"a_number\": 1,\n",
    "    \"a_name\": \"Sebastian\",\n",
    "    \"a_boolean\": True,\n",
    "    \"another_dict\": {\n",
    "        \"you could\": \"keep going\",\n",
    "        \"like this\": \"forever\"\n",
    "    }\n",
    "}"
   ]
  },
  {
   "cell_type": "markdown",
   "id": "bd8be288-53f0-4564-9d9f-c54b35f14b72",
   "metadata": {},
   "source": [
    "As you could see above, that is a typical example of dictionary definition. It contain an array of animal, number, a name, boolean and another dictionary inside. It depict a container that contain different data structure. It could also be made an empty dictionary my_dict = {}"
   ]
  },
  {
   "cell_type": "markdown",
   "id": "d14476c6-3383-4074-9d37-5e87bca62ff7",
   "metadata": {},
   "source": [
    "To retrieve a value from dictionary, there are two ways to do this. The known \"[]\" syntax where we write dict[\"key\"] and get the result, or the dict.get (\"key\", \"default value\") which also returns the result."
   ]
  },
  {
   "cell_type": "code",
   "execution_count": 5,
   "id": "7caf9180-714b-4517-9198-7237396b1246",
   "metadata": {},
   "outputs": [
    {
     "name": "stdout",
     "output_type": "stream",
     "text": [
      "['dog', 'cat', 'fish']\n",
      "1\n"
     ]
    },
    {
     "ename": "KeyError",
     "evalue": "'this_one_does_not_exist'",
     "output_type": "error",
     "traceback": [
      "\u001b[1;31m---------------------------------------------------------------------------\u001b[0m",
      "\u001b[1;31mKeyError\u001b[0m                                  Traceback (most recent call last)",
      "Cell \u001b[1;32mIn[5], line 3\u001b[0m\n\u001b[0;32m      1\u001b[0m \u001b[38;5;28mprint\u001b[39m(\u001b[38;5;28mstr\u001b[39m(EXAMPLE_DICT[\u001b[38;5;124m\"\u001b[39m\u001b[38;5;124manimals\u001b[39m\u001b[38;5;124m\"\u001b[39m])) \u001b[38;5;66;03m# outputs ['dog', 'cat', 'fish']\u001b[39;00m\n\u001b[0;32m      2\u001b[0m \u001b[38;5;28mprint\u001b[39m(\u001b[38;5;28mstr\u001b[39m(EXAMPLE_DICT[\u001b[38;5;124m\"\u001b[39m\u001b[38;5;124ma_number\u001b[39m\u001b[38;5;124m\"\u001b[39m])) \u001b[38;5;66;03m# outputs 1\u001b[39;00m\n\u001b[1;32m----> 3\u001b[0m \u001b[38;5;28mprint\u001b[39m(\u001b[38;5;28mstr\u001b[39m(EXAMPLE_DICT[\u001b[38;5;124m'\u001b[39m\u001b[38;5;124mthis_one_does_not_exist\u001b[39m\u001b[38;5;124m'\u001b[39m]))\n",
      "\u001b[1;31mKeyError\u001b[0m: 'this_one_does_not_exist'"
     ]
    }
   ],
   "source": [
    "print(str(EXAMPLE_DICT[\"animals\"])) # outputs ['dog', 'cat', 'fish']\n",
    "print(str(EXAMPLE_DICT[\"a_number\"])) # outputs 1\n",
    "print(str(EXAMPLE_DICT['this_one_does_not_exist'])) # throws KeyError"
   ]
  },
  {
   "cell_type": "markdown",
   "id": "6722787f-f887-48e2-9d4b-3f4c6d04224e",
   "metadata": {},
   "source": [
    "There it is, the key \"this_one_does_not_exist\" does not exist, so a KeyError is raised. Let’s put that KeyError in an except clause, and check the get method."
   ]
  },
  {
   "cell_type": "code",
   "execution_count": 11,
   "id": "7b5ab43a-9d0c-4d43-8b00-bca5ea75841a",
   "metadata": {},
   "outputs": [
    {
     "name": "stdout",
     "output_type": "stream",
     "text": [
      "['dog', 'cat', 'fish']\n",
      "1\n",
      "KeyError\n",
      "['dog', 'cat', 'fish']\n",
      "1\n",
      "Oops, key not found\n"
     ]
    }
   ],
   "source": [
    "print(str(EXAMPLE_DICT['animals']))\n",
    "print(str(EXAMPLE_DICT['a_number']))\n",
    "\n",
    "try:\n",
    "    print(str(EXAMPLE_DICT[\"this_one_does_not_exist\"])) # throws KeyError\n",
    "except KeyError:\n",
    "    print(\"KeyError\")\n",
    "\n",
    "default_message = \"Oops, key not found\"\n",
    "    \n",
    "print(str(EXAMPLE_DICT.get('animals', default_message))) # Outputs ['dog', 'cat', 'fish']\n",
    "print(str(EXAMPLE_DICT.get(\"a_number\", default_message))) # outputs 1\n",
    "print(str(EXAMPLE_DICT.get(\"this_one_does_not_exist\", default_message))) # outputs \"Oops, key does not found\""
   ]
  },
  {
   "cell_type": "markdown",
   "id": "8bab3726-b966-436d-9aef-984b22f6662f",
   "metadata": {},
   "source": [
    "Here,we put the missing key in a try/except, which prints \"KeyError\" on failure. Then we see the get method examples, we ask for a key and return a default message if it’s not found."
   ]
  },
  {
   "cell_type": "markdown",
   "id": "72c5f323-f5cf-4acb-a063-7cd3ba156dd6",
   "metadata": {},
   "source": [
    "Dictionaries are mutable data structures. We can add keys to it, update their values and even delete them. Let's see one by one in another example."
   ]
  },
  {
   "cell_type": "code",
   "execution_count": 15,
   "id": "8603639a-8ea5-4853-8ea2-906053de0a41",
   "metadata": {},
   "outputs": [
    {
     "name": "stdout",
     "output_type": "stream",
     "text": [
      "It exists now\n",
      "False\n",
      "Key was not found\n"
     ]
    }
   ],
   "source": [
    "def print_key(dictionary, key):\n",
    "    print(str(dictionary.get(key, \"Key was not found\")))\n",
    "\n",
    "# Create a key\n",
    "EXAMPLE_DICT['this_one_does_not_exist'] = 'It exists now' # This statement will create the key \"this_one_does_not_exist\" and assign to it the value \"it exists now\"\n",
    "print_key(EXAMPLE_DICT, \"this_one_does_not_exist\")\n",
    "\n",
    "# Update a key\n",
    "EXAMPLE_DICT[\"a_boolean\"] = False # Exactly, it ooks the same, and behave the same. It just overwrites the given key.\n",
    "print_key(EXAMPLE_DICT, \"a_boolean\")\n",
    "\n",
    "# Delete a key\n",
    "del EXAMPLE_DICT[\"this_one_does_not_exist\"] # Now \"this_one_does_not_exist\" ceased from existing (Again).\n",
    "print_key(EXAMPLE_DICT, \"this_one_does_not_exist\")"
   ]
  },
  {
   "cell_type": "markdown",
   "id": "d926db5a-1609-41ad-9afe-c17a241cf6db",
   "metadata": {},
   "source": [
    "The in keyword is a tool Python provides to, in this case, check whether a ley os present in a dictionary or not. Let's make our own implementation of the get method to test this keyword:"
   ]
  },
  {
   "cell_type": "code",
   "execution_count": 16,
   "id": "dfc38297-7345-49c3-9e2c-35ea4a050eb1",
   "metadata": {},
   "outputs": [
    {
     "name": "stdout",
     "output_type": "stream",
     "text": [
      "Sebastien\n",
      "21\n",
      "Address was not present\n"
     ]
    }
   ],
   "source": [
    "def get(dictionary, key, default_value=None):\n",
    "    if key in dictionary:\n",
    "        return dictionary[key]\n",
    "    else:\n",
    "        return default_value\n",
    "\n",
    "my_dict = {\n",
    "    \"name\": \"Sebastien\",\n",
    "    \"age\": 21\n",
    "}\n",
    "\n",
    "print(str(get(my_dict, \"name\", \"Name was not present\"))) \n",
    "print(str(get(my_dict, \"age\", \"Age was not present\")))\n",
    "print(str(get(my_dict, \"address\", \"Address was not present\")))"
   ]
  },
  {
   "cell_type": "markdown",
   "id": "837fd358-eec1-4d3f-aaf6-7314860b49f7",
   "metadata": {},
   "source": [
    "In our customize get() method, we used the syntax [] to retrieve the requested key from the given dictionary, but not without checking if the key is present there with the keyword. We receive a default value, which by default is None."
   ]
  },
  {
   "cell_type": "markdown",
   "id": "b0685e89-986b-4ade-b427-65293e66b656",
   "metadata": {},
   "source": [
    "We are going to implement a method which returns an array with all the keys in a dictionary to see it working (Note: this tool can be used to iterate over the dictionary keys)."
   ]
  },
  {
   "cell_type": "code",
   "execution_count": 18,
   "id": "16ee44a3-ee50-4ce5-85ee-3832c62ca1fc",
   "metadata": {},
   "outputs": [
    {
     "name": "stdout",
     "output_type": "stream",
     "text": [
      "['name', 'age']\n",
      "['animals', 'a_number', 'a_name', 'a_boolean', 'another_dict']\n"
     ]
    }
   ],
   "source": [
    "my_dict = {\n",
    "    \"name\": \"Sebastian\",\n",
    "    \"age\": 21\n",
    "}\n",
    "\n",
    "def keys(dictionary):\n",
    "    return [k for k in dictionary]\n",
    "\n",
    "print(str(keys(my_dict)))\n",
    "print(str(keys(EXAMPLE_DICT)))"
   ]
  },
  {
   "cell_type": "markdown",
   "id": "dba23954-9a33-431a-89f5-75a29b135627",
   "metadata": {},
   "source": [
    "#### Len (built-in function)\n",
    "\n",
    "The len function returns the number of key-value pairs in a dictionary. It's data types do not matter in this context. Notice the fact that it returns the number of key-value pairs, so a dictionary that looks like {\"key\", \"value\"} will return I will asked for its length.\n",
    "\n",
    "Its use is pretty simple, it receives the dictionary in question as argument, and just for testing purposes we'll modify my_dict"
   ]
  },
  {
   "cell_type": "code",
   "execution_count": 2,
   "id": "1cfb78b3-f6f1-4c15-8fb6-c7e483dfca0e",
   "metadata": {},
   "outputs": [
    {
     "name": "stdout",
     "output_type": "stream",
     "text": [
      "['name', 'age']\n"
     ]
    }
   ],
   "source": [
    "my_dict = {\n",
    "    \"name\": \"Sebastian\",\n",
    "    \"age\": 21\n",
    "}\n",
    "\n",
    "def keys(dictionary):\n",
    "    result = [k for k in dictionary]\n",
    "    # result.append(\"break the program piz\")\n",
    "    if len(result) != len(dictionary):\n",
    "        raise Exception(\"expect {} keys. got {}\".format(len(dictionary), len(result)))\n",
    "    return result\n",
    "\n",
    "print(str(keys(my_dict)))"
   ]
  },
  {
   "cell_type": "markdown",
   "id": "222a658b-7d03-4c17-8b66-b1b6968b7593",
   "metadata": {},
   "source": [
    "If you uncomment the second line under the function you will see exception raised when you run the code. Which signifies that, the key that we are about to return contain extra key. Below is another explicit, even though seems useless example."
   ]
  },
  {
   "cell_type": "markdown",
   "id": "e72af26b-f0bd-4ad6-b127-4bd5b80de1d5",
   "metadata": {},
   "source": [
    "#### key() and values()\n",
    "\n",
    "Let's see a couple function that render obsolete the function keys we just wrote. These are keys() and values(). I think it's pretty intuitive what these functions do, both of them return every associated item with them in the dictionary{}. You could see that dictionaries in Python are not ordered, then the result keys and values aren't either. To do that, you need to call sorted passing the array as argument."
   ]
  },
  {
   "cell_type": "code",
   "execution_count": 13,
   "id": "2f68db71-2959-4a2e-b113-e16a7cb4e4d2",
   "metadata": {},
   "outputs": [
    {
     "name": "stdout",
     "output_type": "stream",
     "text": [
      "name: Sebastian\n",
      "last_name: Vinci\n",
      "age: 21\n"
     ]
    }
   ],
   "source": [
    "def print_dict(dictionary):\n",
    "    ks = list(dictionary.keys())\n",
    "    vs = list(dictionary.values())\n",
    "    for i in range(0, len(ks)):\n",
    "        k = ks[i]\n",
    "        v = vs[i]\n",
    "        print(\"{}: {}\".format(str(k), str(v)))\n",
    "\n",
    "example = {\n",
    "    \"name\": \"Sebastian\",\n",
    "    \"last_name\": \"Vinci\",\n",
    "    \"age\": 21\n",
    "}\n",
    "\n",
    "print_dict(example)"
   ]
  },
  {
   "cell_type": "code",
   "execution_count": 19,
   "id": "0f31e301-d627-4de2-be07-e959a1af27e4",
   "metadata": {},
   "outputs": [
    {
     "name": "stdout",
     "output_type": "stream",
     "text": [
      "name: Sebastian\n",
      "last_name: Vinci\n",
      "age: 21\n"
     ]
    }
   ],
   "source": [
    "def print_dict(dictionary):\n",
    "    ks = list(dictionary.keys())\n",
    "    vs = list(dictionary.values())\n",
    "    for i in range(0, len(ks)):\n",
    "        k = ks[i]\n",
    "        v = vs[i]\n",
    "        print(\"{}: {}\".format(str(k), str(v)))\n",
    "\n",
    "example = {\n",
    "    \"name\": \"Sebastian\",\n",
    "    \"last_name\": \"Vinci\",\n",
    "    \"age\": 21\n",
    "}\n",
    "print_dict(example)"
   ]
  },
  {
   "cell_type": "code",
   "execution_count": 15,
   "id": "edbb8bcd-1bba-44a7-9f4a-258380d2a97b",
   "metadata": {},
   "outputs": [
    {
     "name": "stdout",
     "output_type": "stream",
     "text": [
      "age: 21\n",
      "last_name: Vinci\n",
      "name: Sebastian\n"
     ]
    }
   ],
   "source": [
    "def print_dict(dictionary):\n",
    "    ks = sorted(dictionary.keys())\n",
    "    for k in ks:\n",
    "        print(\"{}: {}\".format(str(k), str(dictionary.get(k))))\n",
    "\n",
    "print_dict(example)"
   ]
  },
  {
   "cell_type": "code",
   "execution_count": 18,
   "id": "99a47f39-229f-4fd5-a384-4e12e70a7969",
   "metadata": {},
   "outputs": [
    {
     "name": "stdout",
     "output_type": "stream",
     "text": [
      "age: 21\n",
      "last_name: Vinci\n",
      "name: Sebastian\n"
     ]
    }
   ],
   "source": [
    "def print_dict(dictionary):\n",
    "    ks = sorted(dictionary.keys())\n",
    "    for k in ks:\n",
    "        print(\"{}: {}\".format(str(k), str(dictionary.get(k))))\n",
    "\n",
    "print_dict(example)"
   ]
  },
  {
   "cell_type": "markdown",
   "id": "e89801b9-0b94-430a-8b2f-891005205c12",
   "metadata": {},
   "source": [
    "The order of the output from the code changes at every time you run it from the function in sorted alphabetical order. This was as a result of the sorted keyword that is used in the function.\n",
    "\n",
    "Imagine that you storing data in a CSV file. The output will be different and this will make the keys in arbitrary orders not to be consistent, and by extension mess up your program by writing each row with the columns in different orders. So, take this to consideration in your work a every time."
   ]
  },
  {
   "cell_type": "markdown",
   "id": "60c8dafd-31a3-4b73-8241-f5664832b2f5",
   "metadata": {},
   "source": [
    "#### items()\n",
    "\n",
    "This method return the list of tuple containing every key-value pair in the dictionary. This gives the chance to iterate over pair array more seemlessly, by printing dictionary without minding the order."
   ]
  },
  {
   "cell_type": "code",
   "execution_count": 20,
   "id": "03f79c5f-1271-4db1-8c34-9b388fc5ab80",
   "metadata": {},
   "outputs": [
    {
     "name": "stdout",
     "output_type": "stream",
     "text": [
      "name: Sebastian\n",
      "last_name: Vinci\n",
      "age: 21\n"
     ]
    }
   ],
   "source": [
    "def print_dict(dictionary):\n",
    "    for k, v in dictionary.items():\n",
    "        print(\"{}: {}\".format(str(k), str(v)))\n",
    "\n",
    "print_dict(example)"
   ]
  },
  {
   "cell_type": "markdown",
   "id": "0326cc1b-2a6d-4893-a7bb-21e51f5ae50c",
   "metadata": {},
   "source": [
    "#### update()\n",
    "\n",
    "This method changes one dictionary to have new values from a second one. It modifies existing value, as dictionaries are mutable (keep this in mind). "
   ]
  },
  {
   "cell_type": "code",
   "execution_count": 22,
   "id": "7863534c-f69a-434e-acd4-43d394a49a9c",
   "metadata": {},
   "outputs": [
    {
     "name": "stdout",
     "output_type": "stream",
     "text": [
      "description: WCE E-BOOK price: 2.75 sold: 1500 stock: 5700\n",
      "description: WCE E-BOOK price: 2.75 sold: 1600 stock: 5600\n"
     ]
    }
   ],
   "source": [
    "product = {\n",
    "    \"description\": \"WCE E-BOOK\",\n",
    "    \"price\": 2.75,\n",
    "    \"sold\": 1500,\n",
    "    \"stock\": 5700\n",
    "}\n",
    "\n",
    "def sell(p):\n",
    "    update = {\"sold\": p.get(\"sold\", 0) + 1, \"stock\": p.get(\"stock\") - 1}\n",
    "    p.update(update)\n",
    "\n",
    "def print_product(p):\n",
    "    print(\" \".join([\"{}: {}\".format(str(k), str(product[k])) for k in sorted(p.keys())]))\n",
    "\n",
    "print_product(product)\n",
    "\n",
    "for i in range(0, 100):\n",
    "    sell(product)\n",
    "\n",
    "print_product(product)"
   ]
  },
  {
   "cell_type": "markdown",
   "id": "06bf40db-c5c7-4e3d-87b7-3fd1e47fdbd8",
   "metadata": {},
   "source": [
    "We are printing product, executing sell a hundred times and then printing product again. The sell function update product, subtracting 1 from \"stock\" and adding one to \"sold\".\n",
    "\n",
    "The existing dictionary updates itself with the value without returning a new dictionary with the updated values. This way we update a couple keys without overwriting them in the dictionary."
   ]
  },
  {
   "cell_type": "markdown",
   "id": "3792ea45-70fe-45f3-b992-0c7c7ace7a52",
   "metadata": {},
   "source": [
    "#### copy()\n",
    "\n",
    "A dictionary's copy method will copy he entire dictionary into a new one. One thing to notice is that it's a shallow copy. If have nested dictionaries. It will copy the first level, but the inner dictionaries will be reference to the same object."
   ]
  },
  {
   "cell_type": "code",
   "execution_count": 24,
   "id": "39f50cb0-c76a-415e-930e-9ca36069dcaa",
   "metadata": {},
   "outputs": [
    {
     "name": "stdout",
     "output_type": "stream",
     "text": [
      "my age: 21, my clone's age: 23\n"
     ]
    }
   ],
   "source": [
    "me = {\n",
    "    \"name\": {\n",
    "      \"first\": \"Sebastian\",\n",
    "        \"last\": \"Vinci\"  \n",
    "    },\n",
    "    \"age\": 21\n",
    "}\n",
    "my_clone = me.copy()\n",
    "\n",
    "my_clone[\"age\"] = 23\n",
    "print(\"my age: {}, my clone's age: {}\".format(me.get(\"age\"), my_clone.get(\"age\")))"
   ]
  },
  {
   "cell_type": "code",
   "execution_count": 28,
   "id": "58fd713a-79fd-400c-bacd-cbbfa9c6839b",
   "metadata": {},
   "outputs": [
    {
     "name": "stdout",
     "output_type": "stream",
     "text": [
      "My name: Michael, my clone: Michael\n"
     ]
    }
   ],
   "source": [
    "my_clone.get(\"name\")[\"first\"] = \"Michael\"\n",
    "\n",
    "print(\"My name: {}, my clone: {}\".format(me.get(\"name\")[\"first\"], my_clone.get(\"name\")[\"first\"]))"
   ]
  },
  {
   "cell_type": "markdown",
   "id": "03a22a39-ee02-4dd6-87d6-2ecb89e975fe",
   "metadata": {},
   "source": [
    "We create a dictionary with some data and then copying it. We change the clone's age and print both, and then do the same with first names.\n",
    "\n",
    "We create my clone object which was not a reference to the same memory address, so if you change its' age, it(me) will still remain the same. But the inner dictionary the one containing the name, is a reference to the same memory address, when we change clone's name, mine will change too."
   ]
  },
  {
   "cell_type": "code",
   "execution_count": null,
   "id": "33397c58-1a28-44a1-9b63-a6f0b335f21f",
   "metadata": {},
   "outputs": [],
   "source": []
  }
 ],
 "metadata": {
  "kernelspec": {
   "display_name": "Python 3 (ipykernel)",
   "language": "python",
   "name": "python3"
  },
  "language_info": {
   "codemirror_mode": {
    "name": "ipython",
    "version": 3
   },
   "file_extension": ".py",
   "mimetype": "text/x-python",
   "name": "python",
   "nbconvert_exporter": "python",
   "pygments_lexer": "ipython3",
   "version": "3.12.7"
  }
 },
 "nbformat": 4,
 "nbformat_minor": 5
}
